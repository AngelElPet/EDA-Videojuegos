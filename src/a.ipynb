{
 "cells": [
  {
   "cell_type": "code",
   "execution_count": 2,
   "metadata": {},
   "outputs": [],
   "source": [
    "import pandas as pd\n",
    "import json\n",
    "import requests as rq\n",
    "import numpy as np\n",
    "\n",
    "\n",
    "import warnings\n",
    "warnings.filterwarnings(\"ignore\")\n"
   ]
  },
  {
   "cell_type": "code",
   "execution_count": 3,
   "metadata": {},
   "outputs": [],
   "source": [
    "def crear_pd_xb():\n",
    "    #Creamos el DataFrame de Xbox\n",
    "\n",
    "    url = 'https://api.sampleapis.com/xbox/games'\n",
    "    response = rq.get(url)\n",
    "    a = response.json()\n",
    "\n",
    "    id = []\n",
    "    name = []\n",
    "    genre= []\n",
    "    developers =[]\n",
    "    rdJapan=[]\n",
    "    rdNorthAmerica=[]\n",
    "    rdEurope=[]\n",
    "    rdAustralia=[]\n",
    "\n",
    "    for x in a:\n",
    "        id.append(x['id'])\n",
    "        name.append(x['name'])\n",
    "        genre.append(x['genre'])\n",
    "        developers.append(x['developers'])\n",
    "        y= x['releaseDates']\n",
    "        rdJapan.append(y['Japan'])\n",
    "        rdNorthAmerica.append(y['NorthAmerica'])\n",
    "        rdEurope.append(y['Europe'])\n",
    "        rdAustralia.append(y['Australia'])\n",
    "\n",
    "    dict_xbox={'id':id,'name':name,'genre':genre,'rdJapan':rdJapan,'rdNorthAmerica':rdNorthAmerica,'rdEurope':rdEurope,'rdAustralia':rdAustralia}\n",
    "    pd_xbox = pd.DataFrame(dict_xbox)\n",
    "    return pd_xbox"
   ]
  },
  {
   "cell_type": "code",
   "execution_count": 4,
   "metadata": {},
   "outputs": [],
   "source": [
    "pd_xbox = crear_pd_xb()"
   ]
  },
  {
   "cell_type": "code",
   "execution_count": 5,
   "metadata": {},
   "outputs": [],
   "source": [
    "def crear_pd_sw():\n",
    "    #Creamos el DataFrame de Switch\n",
    "\n",
    "    url1 = 'https://api.sampleapis.com/switch/games'\n",
    "    response = rq.get(url1)\n",
    "    a1 = response.json()\n",
    "\n",
    "    id = []\n",
    "    name = []\n",
    "    genre= []\n",
    "    developers =[]\n",
    "    rdJapan=[]\n",
    "    rdNorthAmerica=[]\n",
    "    rdEurope=[]\n",
    "    rdAustralia=[]\n",
    "\n",
    "    for x in a1:\n",
    "        id.append(x['id'])\n",
    "        name.append(x['name'])\n",
    "        genre.append(x['genre'])\n",
    "        developers.append(x['developers'])\n",
    "        y= x['releaseDates']\n",
    "        rdJapan.append(y['Japan'])\n",
    "        rdNorthAmerica.append(y['NorthAmerica'])\n",
    "        rdEurope.append(y['Europe'])\n",
    "        rdAustralia.append(y['Australia'])\n",
    "\n",
    "    dict={'id':id,'name':name,'genre':genre,'rdJapan':rdJapan,'rdNorthAmerica':rdNorthAmerica,'rdEurope':rdEurope,'rdAustralia':rdAustralia}\n",
    "    pd_switch = pd.DataFrame(dict)\n",
    "    return pd_switch"
   ]
  },
  {
   "cell_type": "code",
   "execution_count": 6,
   "metadata": {},
   "outputs": [],
   "source": [
    "pd_switch = crear_pd_sw()"
   ]
  },
  {
   "cell_type": "code",
   "execution_count": 7,
   "metadata": {},
   "outputs": [],
   "source": [
    "def crear_pd_ps():\n",
    "    url2 = 'https://api.sampleapis.com/playstation/games'\n",
    "    response = rq.get(url2)\n",
    "    a2 = response.json()\n",
    "\n",
    "    id = []\n",
    "    name = []\n",
    "    genre= []\n",
    "    developers =[]\n",
    "    rdJapan=[]\n",
    "    rdNorthAmerica=[]\n",
    "    rdEurope=[]\n",
    "    rdAustralia=[]\n",
    "\n",
    "    for x in a2:\n",
    "        id.append(x['id'])\n",
    "        name.append(x['name'])\n",
    "        genre.append(x['genre'])\n",
    "        developers.append(x['developers'])\n",
    "        y= x['releaseDates']\n",
    "        rdJapan.append(y['Japan'])\n",
    "        rdNorthAmerica.append(y['NorthAmerica'])\n",
    "        rdEurope.append(y['Europe'])\n",
    "        rdAustralia.append(y['Australia'])\n",
    "\n",
    "    dict={'id':id,'name':name,'genre':genre,'rdJapan':rdJapan,'rdNorthAmerica':rdNorthAmerica,'rdEurope':rdEurope,'rdAustralia':rdAustralia}\n",
    "    pd_playstation = pd.DataFrame(dict)\n",
    "    return pd_playstation"
   ]
  },
  {
   "cell_type": "code",
   "execution_count": 8,
   "metadata": {},
   "outputs": [],
   "source": [
    "pd_playstation = crear_pd_ps()"
   ]
  },
  {
   "cell_type": "code",
   "execution_count": 9,
   "metadata": {},
   "outputs": [],
   "source": [
    "#Acabamos de comprobar si hay videojuegos que no están catalogados en la categoría genero\n",
    "#En el pd_xbox y pd_playstation vamos a cambiar aquellos que tengan una observacion de tipo lista '[]' por '['Sin genero']' \n",
    "#para después poder utilizarlas en las comparaciones"
   ]
  },
  {
   "cell_type": "code",
   "execution_count": 10,
   "metadata": {},
   "outputs": [],
   "source": [
    "def arreglar_genre_xb(pd_xbox):\n",
    "    pd_xbox.genre[pd_xbox.genre.isin([[]])]= [['Sin genero']]\n",
    "    genre=[]\n",
    "    for x in pd_xbox.iloc[:,2]:\n",
    "        if x =='Sin genero':\n",
    "            genre.append('Sin genero')\n",
    "        else:\n",
    "            genre.append(x[0])\n",
    "    del(pd_xbox['genre'])\n",
    "    pd_xbox['genre']=genre\n",
    "    return pd_xbox"
   ]
  },
  {
   "cell_type": "code",
   "execution_count": 11,
   "metadata": {},
   "outputs": [],
   "source": [
    "pd_xbox=arreglar_genre_xb(pd_xbox)"
   ]
  },
  {
   "cell_type": "code",
   "execution_count": 12,
   "metadata": {},
   "outputs": [],
   "source": [
    "def arreglar_genre_ps(pd_playstation):\n",
    "    pd_playstation.genre[pd_playstation.genre.isin([[]])]= [['Sin genero']]\n",
    "    genre=[]\n",
    "    for x in pd_playstation.iloc[:,2]:\n",
    "        if x =='Sin genero':\n",
    "            genre.append('Sin genero')\n",
    "        else:\n",
    "            genre.append(x[0])\n",
    "    del(pd_playstation['genre'])\n",
    "    pd_playstation['genre']=genre\n",
    "    return pd_playstation\n"
   ]
  },
  {
   "cell_type": "code",
   "execution_count": 13,
   "metadata": {},
   "outputs": [],
   "source": [
    "pd_playstation=arreglar_genre_ps(pd_playstation)"
   ]
  },
  {
   "cell_type": "code",
   "execution_count": 14,
   "metadata": {},
   "outputs": [],
   "source": [
    "\n",
    "def arreglar_genre_sw(pd_switch):\n",
    "    genre = []\n",
    "    for x in pd_switch.iloc[:,2]:\n",
    "        if x =='Sin genero':\n",
    "            genre.append('Sin genero')\n",
    "        else:\n",
    "            genre.append(x[0])\n",
    "    del(pd_switch['genre'])\n",
    "    pd_switch['genre']=genre\n",
    "    return pd_switch"
   ]
  },
  {
   "cell_type": "code",
   "execution_count": 15,
   "metadata": {},
   "outputs": [],
   "source": [
    "pd_switch = arreglar_genre_sw(pd_switch)"
   ]
  },
  {
   "cell_type": "code",
   "execution_count": 16,
   "metadata": {},
   "outputs": [],
   "source": [
    "#Corregido ya el genero para que solo salga el genero y sea de tipo string vamos a solucionar el tema de las fechas\n",
    "# Para ello vamos a generar una nueva columna que tendrá como valores Norte America, Europa o Ambos según haya salido primero en \n",
    "#Norte América, Europa o en ambos respectivamente\n",
    "# Con este fin, modificaremos las columnas rdNorthAmerica y rdEurope para que sean más fácil comprobar cual salió antes"
   ]
  },
  {
   "cell_type": "code",
   "execution_count": 17,
   "metadata": {},
   "outputs": [],
   "source": [
    "#Tambien arreglaremos las columnas de rdJapan y rdAustralia"
   ]
  },
  {
   "cell_type": "code",
   "execution_count": 18,
   "metadata": {},
   "outputs": [],
   "source": [
    "#Hay fechas de lanzamiento que tienen TBA entre otras como dato o Unreleased, por lo que vamos a modificar dichos datos\n",
    "#haciendo que donde ponga 'Unreleased' aparezca un '0' (puesto que unreleased= no ha salido en ingles)\n",
    "# y sustituyendo el resto de los datos por np.NaN\n",
    "#para despues hacer un dropna(inplace=True)"
   ]
  },
  {
   "cell_type": "code",
   "execution_count": 19,
   "metadata": {},
   "outputs": [],
   "source": [
    "#Crearemos una lista nueva por cada columna donde almacenaremos los datos de la siguiente forma[año,mes,dia]\n",
    "#Aquellos datos que vengan dados por un '0' lo introduciremos en la lista como [año=3000,mes = 0 , dia=0]\n",
    "#Para poder compararlos con mayor facilidad"
   ]
  },
  {
   "cell_type": "code",
   "execution_count": 20,
   "metadata": {},
   "outputs": [],
   "source": [
    "def arreglar_ps (pd_playstation):\n",
    "    pd_playstation.rdEurope[pd_playstation['rdEurope'].isin(['TBA','Assorted','Q3 2020'])]=np.NAN\n",
    "    pd_playstation.rdNorthAmerica[pd_playstation['rdNorthAmerica'].isin(['TBA','Assorted','Q3 2020'])]=np.NAN\n",
    "    pd_playstation.rdJapan[pd_playstation['rdJapan'].isin(['TBA','Assorted','Q3 2020'])]=np.NAN\n",
    "    pd_playstation.rdAustralia[pd_playstation['rdAustralia'].isin(['TBA','Assorted','Q3 2020'])]=np.NAN\n",
    "    pd_playstation.rdEurope[pd_playstation['rdEurope'].isin(['Unreleased'])]='0'\n",
    "    pd_playstation.rdJapan[pd_playstation['rdJapan'].isin(['Unreleased'])]='0'\n",
    "    pd_playstation.rdAustralia[pd_playstation['rdAustralia'].isin(['Unreleased'])]='0'\n",
    "    pd_playstation.rdNorthAmerica[pd_playstation['rdNorthAmerica'].isin(['Unreleased'])]='0'\n",
    "    pd_playstation.dropna(inplace=True)\n",
    "    return pd_playstation\n"
   ]
  },
  {
   "cell_type": "code",
   "execution_count": 21,
   "metadata": {},
   "outputs": [],
   "source": [
    "pd_playstation=arreglar_ps(pd_playstation)"
   ]
  },
  {
   "cell_type": "code",
   "execution_count": 22,
   "metadata": {},
   "outputs": [],
   "source": [
    "# Nos encontramos una fecha que no sabemos lo que significa, conque la vamos a eliminar más arriba"
   ]
  },
  {
   "cell_type": "code",
   "execution_count": 23,
   "metadata": {},
   "outputs": [],
   "source": [
    "#pd_playstation.iat[674,4] = 'Q3 2020'"
   ]
  },
  {
   "cell_type": "code",
   "execution_count": 24,
   "metadata": {},
   "outputs": [],
   "source": [
    "def comparador_fechas(Eu,Na): #devolverá una lista de strings donde pondrá NA,EU o NA EU\n",
    "    fechas_comparadas=[]\n",
    "    for x in range(len(Eu)):\n",
    "        \n",
    "        if Eu[x][0]>Na[x][0]:\n",
    "            fechas_comparadas.append('NA')\n",
    "        elif  Eu[x][0]<Na[x][0]:\n",
    "            fechas_comparadas.append('EU')\n",
    "        elif (Eu[x][0]==Na[x][0]) & (Eu[x][1]>Na[x][1]):\n",
    "            fechas_comparadas.append('NA')\n",
    "        elif (Eu[x][0]==Na[x][0])& (Eu[x][1]<Na[x][1]):\n",
    "            fechas_comparadas.append('EU')\n",
    "        elif (Eu[x][0]==Na[x][0]) & (Eu[x][1]==Na[x][1])&(Eu[x][2]>Na[x][2]):\n",
    "            fechas_comparadas.append('NA')\n",
    "        elif (Eu[x][0]==Na[x][0])& (Eu[x][1]==Na[x][1])&(Eu[x][2]<Na[x][2]):\n",
    "            fechas_comparadas.append('EU')\n",
    "        elif (Eu[x][0]==Na[x][0] )& (Eu[x][1]==Na[x][1]) & (Eu[x][2]==Na[x][2]) :\n",
    "            fechas_comparadas.append('NA EU')\n",
    "    return fechas_comparadas\n",
    "            \n"
   ]
  },
  {
   "cell_type": "code",
   "execution_count": 25,
   "metadata": {},
   "outputs": [],
   "source": [
    "def comparador_fechas_str(a1,a2,lista): #devolverá una lista de strings donde pondrá NA,EU o NA EU\n",
    "    fecha=''    \n",
    "    if a1[0]>a2[0]:\n",
    "        fecha=lista[1]\n",
    "    elif a1[0]<a2[0]:\n",
    "            fecha=lista[0]\n",
    "    elif (a1[0]==a2[0]) & (a1[1]>a2[1]):\n",
    "        fecha= lista[1]\n",
    "    elif (a1[0]==a2[0])& (a1[1]<a2[1]):\n",
    "        fecha = lista[0]\n",
    "    elif (a1[0]==a2[0]) & (a1[1]==a2[1])&(a1[2]>a2[2]):\n",
    "        fecha=lista[1]\n",
    "    elif (a1[0]==a2[0]) & (a1[1]==a2[1])&(a1[2]<a2[2]):\n",
    "        fecha=lista[0]\n",
    "    else:\n",
    "        fecha=lista[0]+' '+lista[1]\n",
    "        \n",
    "    return fecha"
   ]
  },
  {
   "cell_type": "code",
   "execution_count": 26,
   "metadata": {},
   "outputs": [],
   "source": [
    "def comparador_fechas_4(Eu,Na,Jp,Au):\n",
    "    a= comparador_fechas(Eu,Na)\n",
    "    for x in range(len(Eu)):\n",
    "        lista = []\n",
    "        lista.append(a[x])\n",
    "        lista.append('JP')\n",
    "        \n",
    "        if 'EU' in a[x]:\n",
    "            a[x] = comparador_fechas_str(Eu[x],Jp[x],lista)\n",
    "        elif 'NA' in a[x]:\n",
    "            a[x] = comparador_fechas_str(Na[x],Jp[x],lista)\n",
    "    \n",
    "    for x in range(len(Eu)):\n",
    "        lista = []\n",
    "        lista.append(a[x])\n",
    "        lista.append('AU')\n",
    "        if 'EU' in a[x]:\n",
    "            a[x] = comparador_fechas_str(Eu[x],Au[x],lista)\n",
    "        elif 'NA' in a[x]:\n",
    "            a[x] = comparador_fechas_str(Na[x],Au[x],lista)\n",
    "        elif 'JP' in a[x]:\n",
    "            a[x] = comparador_fechas_str(Na[x],Au[x],lista)\n",
    "    \n",
    "    return a\n",
    "        \n",
    "\n",
    "    "
   ]
  },
  {
   "cell_type": "code",
   "execution_count": 27,
   "metadata": {},
   "outputs": [],
   "source": [
    "def lista_Comp_ps (pd_playstation):\n",
    "    meses = ['Jan', 'Feb','Mar','Apr','May','Jun','Jul','Aug','Sep','Oct','Nov','Dec']\n",
    "    fecha_Na_ps =[]\n",
    "    for x in pd_playstation.iloc[:,3]:\n",
    "        fecha=[]\n",
    "        if x =='0':\n",
    "            fecha.append(3000)\n",
    "            fecha.append(0)\n",
    "            fecha.append(0)\n",
    "        elif len(x)>8:\n",
    "            fecha.append(int(x[-4:]))\n",
    "            for y in range(1,13):\n",
    "                if meses[y-1]==x[0:3]:\n",
    "                        fecha.append(y)\n",
    "            fecha.append(int(x[4:-6]))\n",
    "        elif len(x)>4 &len(x)<9:\n",
    "            fecha.append(int(x[-4:]))\n",
    "            for y in range(1,13):\n",
    "                if meses[y-1]==x[0:3]:\n",
    "                    fecha.append(y)\n",
    "            fecha.append(0)\n",
    "        else:\n",
    "        \n",
    "            fecha.append(int(x))\n",
    "            fecha.append(0)\n",
    "            fecha.append(0)\n",
    "        fecha_Na_ps.append(fecha)\n",
    "\n",
    "    fecha_Eu_ps =[]\n",
    "    for x in pd_playstation.iloc[:,4]:\n",
    "        fecha=[]\n",
    "        if x =='0':\n",
    "            fecha.append(3000)\n",
    "            fecha.append(0)\n",
    "            fecha.append(0)\n",
    "        elif len(x)>8:\n",
    "            fecha.append(int(x[-4:]))\n",
    "            for y in range(1,13):\n",
    "                if meses[y-1]==x[0:3]:\n",
    "                    fecha.append(y)\n",
    "            fecha.append(int(x[4:-6]))\n",
    "        elif len(x)>4 &len(x)<9:\n",
    "            fecha.append(int(x[-4:]))\n",
    "            for y in range(1,13):\n",
    "                if meses[y-1]==x[0:3]:\n",
    "                    fecha.append(y)\n",
    "            fecha.append(0)\n",
    "        else:\n",
    "        \n",
    "            fecha.append(int(x))\n",
    "            fecha.append(0)\n",
    "            fecha.append(0)\n",
    "        fecha_Eu_ps.append(fecha) \n",
    "\n",
    "    fecha_Jp_ps =[]\n",
    "    for x in pd_playstation.iloc[:,2]:\n",
    "        fecha=[]\n",
    "        if x =='0':\n",
    "            fecha.append(3000)\n",
    "            fecha.append(0)\n",
    "            fecha.append(0)\n",
    "        elif len(x)>8:\n",
    "            fecha.append(int(x[-4:]))\n",
    "            for y in range(1,13):\n",
    "                if meses[y-1]==x[0:3]:\n",
    "                    fecha.append(y)\n",
    "            fecha.append(int(x[4:-6]))\n",
    "        elif len(x)>4 &len(x)<9:\n",
    "            fecha.append(int(x[-4:]))\n",
    "            for y in range(1,13):\n",
    "                if meses[y-1]==x[0:3]:\n",
    "                    fecha.append(y)\n",
    "            fecha.append(0)\n",
    "        else:\n",
    "            fecha.append(int(x))\n",
    "            fecha.append(0)\n",
    "            fecha.append(0)\n",
    "        fecha_Jp_ps.append(fecha)\n",
    "\n",
    "    fecha_Au_ps =[]\n",
    "    for x in pd_playstation.iloc[:,5]:\n",
    "        fecha=[]\n",
    "        if x =='0':\n",
    "            fecha.append(3000)\n",
    "            fecha.append(0)\n",
    "            fecha.append(0)\n",
    "        elif len(x)>8:\n",
    "            fecha.append(int(x[-4:]))\n",
    "            for y in range(1,13):\n",
    "                if meses[y-1]==x[0:3]:\n",
    "                    fecha.append(y)\n",
    "            fecha.append(int(x[4:-6]))\n",
    "        elif len(x)>4 &len(x)<9:\n",
    "            fecha.append(int(x[-4:]))\n",
    "            for y in range(1,13):\n",
    "                if meses[y-1]==x[0:3]:\n",
    "                    fecha.append(y)\n",
    "            fecha.append(0)\n",
    "        else:\n",
    "        \n",
    "            fecha.append(int(x))\n",
    "            fecha.append(0)\n",
    "            fecha.append(0)\n",
    "        fecha_Au_ps.append(fecha)\n",
    "\n",
    "    lista = comparador_fechas_4(fecha_Eu_ps,fecha_Na_ps,fecha_Jp_ps,fecha_Au_ps)\n",
    "    a= [lista,fecha_Eu_ps,fecha_Na_ps,fecha_Jp_ps,fecha_Au_ps]\n",
    "    return a\n"
   ]
  },
  {
   "cell_type": "code",
   "execution_count": 28,
   "metadata": {},
   "outputs": [],
   "source": [
    "lista_ps =lista_Comp_ps(pd_playstation)\n",
    "pd_playstation['Comp']= lista_ps[0]"
   ]
  },
  {
   "cell_type": "code",
   "execution_count": 29,
   "metadata": {},
   "outputs": [],
   "source": [
    "def arreglar_xbox(pd_xbox):\n",
    "    pd_xbox.rdEurope[pd_xbox['rdEurope'].isin(['TBA','Assorted','Q3 2020','Early Access',\"Error in Template:Date table sorting: 'Dex' is not a valid month\"])]=np.NAN\n",
    "    pd_xbox.rdNorthAmerica[pd_xbox['rdNorthAmerica'].isin(['TBA','Assorted','Early Access','Q3 2020'])]=np.NAN\n",
    "    pd_xbox.rdJapan[pd_xbox['rdJapan'].isin(['TBA','Assorted','Early Access','Q3 2020'])]=np.NAN\n",
    "    pd_xbox.rdAustralia[pd_xbox['rdAustralia'].isin(['TBA','Assorted','Early Access','Q3 2020'])]=np.NAN\n",
    "    pd_xbox.rdEurope[pd_xbox['rdEurope'].isin(['Unreleased'])]='0'\n",
    "    pd_xbox.rdNorthAmerica[pd_xbox['rdNorthAmerica'].isin(['Unreleased'])]='0'\n",
    "    pd_xbox.rdJapan[pd_xbox['rdJapan'].isin(['Unreleased'])]='0'\n",
    "    pd_xbox.rdAustralia[pd_xbox['rdAustralia'].isin(['Unreleased'])]='0'\n",
    "    pd_xbox.dropna(inplace=True)\n",
    "    return pd_xbox\n"
   ]
  },
  {
   "cell_type": "code",
   "execution_count": 30,
   "metadata": {},
   "outputs": [],
   "source": [
    "pd_xbox=arreglar_xbox(pd_xbox)\n"
   ]
  },
  {
   "cell_type": "code",
   "execution_count": 31,
   "metadata": {},
   "outputs": [],
   "source": [
    "def lista_Comp_xb (pd_xbox):\n",
    "    fecha_Na_xbox =[]\n",
    "    meses = ['Jan', 'Feb','Mar','Apr','May','Jun','Jul','Aug','Sep','Oct','Nov','Dec']\n",
    "    for x in pd_xbox.iloc[:,3]:\n",
    "        fecha=[]\n",
    "        if x =='0':\n",
    "            fecha.append(3000)\n",
    "            fecha.append(0)\n",
    "            fecha.append(0)\n",
    "        elif len(x)>8:\n",
    "            fecha.append(int(x[-4:]))\n",
    "            for y in range(1,13):\n",
    "                if meses[y-1]==x[0:3]:\n",
    "                    fecha.append(y)\n",
    "            fecha.append(int(x[4:-6]))\n",
    "        elif len(x)>4 &len(x)<9:\n",
    "            fecha.append(int(x[-4:]))\n",
    "            for y in range(1,13):\n",
    "                if meses[y-1]==x[0:3]:\n",
    "                    fecha.append(y)\n",
    "            fecha.append(0)\n",
    "        else:\n",
    "        \n",
    "            fecha.append(int(x))\n",
    "            fecha.append(0)\n",
    "            fecha.append(0)\n",
    "        fecha_Na_xbox.append(fecha)\n",
    "\n",
    "    fecha_Eu_xbox =[]\n",
    "    for x in pd_xbox.iloc[:,4]:\n",
    "        fecha=[]\n",
    "        if x =='0':\n",
    "            fecha.append(3000)\n",
    "            fecha.append(0)\n",
    "            fecha.append(0)\n",
    "        elif len(x)>8:\n",
    "            fecha.append(int(x[-4:]))\n",
    "            for y in range(1,13):\n",
    "                if meses[y-1]==x[0:3]:\n",
    "                    fecha.append(y)\n",
    "            fecha.append(int(x[4:-6]))\n",
    "        elif len(x)>4 &len(x)<9:\n",
    "            fecha.append(int(x[-4:]))\n",
    "            for y in range(1,13):\n",
    "                if meses[y-1]==x[0:3]:\n",
    "                    fecha.append(y)\n",
    "            fecha.append(0)\n",
    "        else:\n",
    "        \n",
    "            fecha.append(int(x))\n",
    "            fecha.append(0)\n",
    "            fecha.append(0)\n",
    "\n",
    "        fecha_Eu_xbox.append(fecha)     \n",
    "\n",
    "    fecha_Jp_xbox =[]\n",
    "    for x in pd_xbox.iloc[:,2]:\n",
    "        fecha=[]\n",
    "        if x =='0':\n",
    "            fecha.append(3000)\n",
    "            fecha.append(0)\n",
    "            fecha.append(0)\n",
    "        elif len(x)>8:\n",
    "            fecha.append(int(x[-4:]))\n",
    "            for y in range(1,13):\n",
    "                if meses[y-1]==x[0:3]:\n",
    "                    fecha.append(y)\n",
    "            fecha.append(int(x[4:-6]))\n",
    "        elif len(x)>4 &len(x)<9:\n",
    "            fecha.append(int(x[-4:]))\n",
    "            for y in range(1,13):\n",
    "                if meses[y-1]==x[0:3]:\n",
    "                    fecha.append(y)\n",
    "            fecha.append(0)\n",
    "        else:\n",
    "        \n",
    "            fecha.append(int(x))\n",
    "            fecha.append(0)\n",
    "            fecha.append(0)\n",
    "\n",
    "        fecha_Jp_xbox.append(fecha) \n",
    "\n",
    "    fecha_Au_xbox =[]\n",
    "    for x in pd_xbox.iloc[:,5]:\n",
    "        fecha=[]\n",
    "        if x =='0':\n",
    "            fecha.append(3000)\n",
    "            fecha.append(0)\n",
    "            fecha.append(0)\n",
    "        elif len(x)>8:\n",
    "            fecha.append(int(x[-4:]))\n",
    "            for y in range(1,13):\n",
    "                if meses[y-1]==x[0:3]:\n",
    "                    fecha.append(y)\n",
    "            fecha.append(int(x[4:-6]))\n",
    "        elif len(x)>4 &len(x)<9:\n",
    "            fecha.append(int(x[-4:]))\n",
    "            for y in range(1,13):\n",
    "                if meses[y-1]==x[0:3]:\n",
    "                    fecha.append(y)\n",
    "            fecha.append(0)\n",
    "        else:\n",
    "        \n",
    "            fecha.append(int(x))\n",
    "            fecha.append(0)\n",
    "            fecha.append(0)\n",
    "\n",
    "        fecha_Au_xbox.append(fecha) \n",
    "    lista = comparador_fechas_4(fecha_Eu_xbox,fecha_Na_xbox,fecha_Jp_xbox,fecha_Au_xbox)\n",
    "    a =[lista,fecha_Eu_xbox,fecha_Na_xbox,fecha_Jp_xbox,fecha_Au_xbox]\n",
    "    return a"
   ]
  },
  {
   "cell_type": "code",
   "execution_count": 32,
   "metadata": {},
   "outputs": [],
   "source": [
    "lista_xb = lista_Comp_xb(pd_xbox)\n",
    "pd_xbox['Comp']= lista_xb[0]"
   ]
  },
  {
   "cell_type": "code",
   "execution_count": 33,
   "metadata": {},
   "outputs": [],
   "source": [
    "def arreglar_sw(pd_switch):\n",
    "    pd_switch.rdEurope[pd_switch['rdEurope'].isin(['TBA','Assorted','Q3 2020','Early Access',\"Error in Template:Date table sorting: 'Dex' is not a valid month\"])]=np.NAN\n",
    "    pd_switch.rdNorthAmerica[pd_switch['rdNorthAmerica'].isin(['TBA','Assorted','Early Access','Q3 2020'])]=np.NAN\n",
    "    pd_switch.rdJapan[pd_switch['rdJapan'].isin(['TBA','Assorted','Early Access','Q3 2020'])]=np.NAN\n",
    "    pd_switch.rdAustralia[pd_switch['rdAustralia'].isin(['TBA','Assorted','Early Access','Q3 2020'])]=np.NAN\n",
    "    pd_switch.rdEurope[pd_switch['rdEurope'].isin(['Unreleased'])]='0'\n",
    "    pd_switch.rdJapan[pd_switch['rdJapan'].isin(['Unreleased'])]='0'\n",
    "    pd_switch.rdAustralia[pd_switch['rdAustralia'].isin(['Unreleased'])]='0'\n",
    "    pd_switch.rdNorthAmerica[pd_switch['rdNorthAmerica'].isin(['Unreleased'])]='0'\n",
    "    pd_switch.dropna(inplace=True)\n",
    "    return pd_switch\n"
   ]
  },
  {
   "cell_type": "code",
   "execution_count": 34,
   "metadata": {},
   "outputs": [],
   "source": [
    "pd_switch=arreglar_sw(pd_switch)"
   ]
  },
  {
   "cell_type": "code",
   "execution_count": 35,
   "metadata": {},
   "outputs": [],
   "source": [
    "def lista_Comp_sw (pd_switch):\n",
    "    fecha_Na_sw =[]\n",
    "    meses = ['January', 'February','March','April','May','June','July','August','September','October','November','December']\n",
    "    for x in pd_switch.iloc[:,3]:\n",
    "    \n",
    "        fecha1=[]\n",
    "        if x == '0':\n",
    "            fecha1.append(3000)\n",
    "            fecha1.append(0)\n",
    "            fecha1.append(0)\n",
    "        elif len(x)==4:\n",
    "            fecha1.append(int(x))\n",
    "            fecha1.append(0)\n",
    "            fecha1.append(0)\n",
    "        elif not(','in x):\n",
    "            fecha=x.split()\n",
    "            for y in range(1,13):\n",
    "                if meses[y-1]==fecha[0]:\n",
    "                    fecha[0]=y\n",
    "            fecha1.append(int(fecha[1]))\n",
    "            fecha1.append(fecha[0])\n",
    "            fecha1.append(0)\n",
    "        else:\n",
    "            fecha=x.split()\n",
    "            for y in range(1,13):\n",
    "                if meses[y-1]==fecha[0]:\n",
    "                    fecha[0]=y\n",
    "            fecha1.append(int(fecha[2]))\n",
    "            fecha1.append(fecha[0])\n",
    "            fecha1.append(int(fecha[1].replace(',','')))\n",
    "        fecha_Na_sw.append(fecha1)\n",
    "\n",
    "    fecha_Eu_sw =[]\n",
    "    for x in pd_switch.iloc[:,4]:\n",
    "        fecha1=[]\n",
    "        if x == '0':\n",
    "            fecha1.append(3000)\n",
    "            fecha1.append(0)\n",
    "            fecha1.append(0)\n",
    "        elif len(x)==4:\n",
    "            fecha1.append(int(x))\n",
    "            fecha1.append(0)\n",
    "            fecha1.append(0)\n",
    "        elif not(','in x):\n",
    "            fecha=x.split()\n",
    "            for y in range(1,13):\n",
    "                if meses[y-1]==fecha[0]:\n",
    "                    fecha[0]=y\n",
    "            fecha1.append(int(fecha[1]))\n",
    "            fecha1.append(fecha[0])\n",
    "            fecha1.append(0)\n",
    "        else:   \n",
    "            fecha=x.split()\n",
    "            for y in range(1,13):\n",
    "                if meses[y-1]==fecha[0]:\n",
    "                    fecha[0]=y\n",
    "            fecha1.append(int(fecha[2]))\n",
    "            fecha1.append(fecha[0])\n",
    "            fecha1.append(int(fecha[1].replace(',','')))\n",
    "        fecha_Eu_sw.append(fecha1)  \n",
    "\n",
    "    fecha_Jp_sw=[]\n",
    "    for x in pd_switch.iloc[:,2]:\n",
    "        fecha1=[]\n",
    "        if x == '0':\n",
    "            fecha1.append(3000)\n",
    "            fecha1.append(0)\n",
    "            fecha1.append(0)\n",
    "        elif len(x)==4:\n",
    "            fecha1.append(int(x))\n",
    "            fecha1.append(0)\n",
    "            fecha1.append(0)\n",
    "        elif not(','in x):\n",
    "            fecha=x.split()\n",
    "            for y in range(1,13):\n",
    "                if meses[y-1]==fecha[0]:\n",
    "                    fecha[0]=y\n",
    "            fecha1.append(int(fecha[1]))\n",
    "            fecha1.append(fecha[0])\n",
    "            fecha1.append(0)\n",
    "        else:\n",
    "            fecha=x.split()\n",
    "            for y in range(1,13):\n",
    "                if meses[y-1]==fecha[0]:\n",
    "                    fecha[0]=y\n",
    "            fecha1.append(int(fecha[2]))\n",
    "            fecha1.append(fecha[0])\n",
    "            fecha1.append(int(fecha[1].replace(',','')))\n",
    "        fecha_Jp_sw.append(fecha1)  \n",
    "\n",
    "    fecha_Au_sw =[]\n",
    "    for x in pd_switch.iloc[:,5]:\n",
    "        fecha1=[]\n",
    "        if x  == '0':\n",
    "            fecha1.append(3000)\n",
    "            fecha1.append(0)\n",
    "            fecha1.append(0)\n",
    "        elif len(x)==4:\n",
    "            fecha1.append(int(x))\n",
    "            fecha1.append(0)\n",
    "            fecha1.append(0)\n",
    "        elif not(','in x):\n",
    "            fecha=x.split()\n",
    "            for y in range(1,13):\n",
    "                if meses[y-1]==fecha[0]:\n",
    "                    fecha[0]=y\n",
    "            fecha1.append(int(fecha[1]))\n",
    "            fecha1.append(fecha[0])\n",
    "            fecha1.append(0)\n",
    "        else:\n",
    "            fecha=x.split()\n",
    "            for y in range(1,13):\n",
    "                if meses[y-1]==fecha[0]:\n",
    "                    fecha[0]=y\n",
    "            fecha1.append(int(fecha[2]))\n",
    "            fecha1.append(fecha[0])\n",
    "            fecha1.append(int(fecha[1].replace(',','')))\n",
    "        fecha_Au_sw.append(fecha1)  \n",
    "    lista = comparador_fechas_4(fecha_Eu_sw,fecha_Na_sw,fecha_Jp_sw,fecha_Au_sw)\n",
    "    a= [lista,fecha_Eu_sw,fecha_Na_sw,fecha_Jp_sw,fecha_Au_sw]\n",
    "    return a"
   ]
  },
  {
   "cell_type": "code",
   "execution_count": 36,
   "metadata": {},
   "outputs": [],
   "source": [
    "lista_sw=lista_Comp_sw(pd_switch)\n",
    "pd_switch['Comp']= lista_sw[0]"
   ]
  },
  {
   "cell_type": "code",
   "execution_count": 37,
   "metadata": {},
   "outputs": [],
   "source": [
    "def delete(pd_playstation):\n",
    "    del(pd_playstation['rdAustralia'])\n",
    "    del(pd_playstation['rdEurope']) \n",
    "    del(pd_playstation['rdJapan'])\n",
    "    del(pd_playstation['rdNorthAmerica'])\n",
    "    return pd_playstation"
   ]
  },
  {
   "cell_type": "code",
   "execution_count": 38,
   "metadata": {},
   "outputs": [],
   "source": [
    "pd_playstation =delete(pd_playstation)\n",
    "pd_switch=delete(pd_switch)\n",
    "pd_xbox=delete(pd_xbox)"
   ]
  },
  {
   "cell_type": "code",
   "execution_count": 39,
   "metadata": {},
   "outputs": [],
   "source": [
    "def lista_fechas(lista):\n",
    "    fecha=[[],[],[]]\n",
    "    for x in lista:\n",
    "        fecha[0].append(x[0])\n",
    "        fecha[1].append(x[1])\n",
    "        fecha[2].append(x[2])\n",
    "    return fecha"
   ]
  },
  {
   "cell_type": "code",
   "execution_count": 40,
   "metadata": {},
   "outputs": [],
   "source": [
    "def pd_ps_final(pd_playstation,lista_ps):\n",
    "    afecha_ps_Eu = lista_fechas(lista_ps[1])\n",
    "    afecha_ps_Na = lista_fechas(lista_ps[2])\n",
    "    afecha_ps_Jp = lista_fechas(lista_ps[3])\n",
    "    afecha_ps_Au = lista_fechas(lista_ps[4])\n",
    "\n",
    "    pd_playstation['Año Eu'] = afecha_ps_Eu[0]\n",
    "    pd_playstation['Mes Eu'] = afecha_ps_Eu[1]\n",
    "    pd_playstation['Dia Eu'] = afecha_ps_Eu[2]\n",
    "    pd_playstation['Año Na'] = afecha_ps_Na[0]\n",
    "    pd_playstation['Mes Na'] = afecha_ps_Na[1]\n",
    "    pd_playstation['Dia Na'] = afecha_ps_Na[2]\n",
    "    pd_playstation['Año Jp'] = afecha_ps_Jp[0]\n",
    "    pd_playstation['Mes Jp'] = afecha_ps_Jp[1]\n",
    "    pd_playstation['Dia Jp'] = afecha_ps_Jp[2]\n",
    "    pd_playstation['Año Au'] = afecha_ps_Au[0]\n",
    "    pd_playstation['Mes Au'] = afecha_ps_Au[1]\n",
    "    pd_playstation['Dia Au'] = afecha_ps_Au[2]\n",
    "    return pd_playstation"
   ]
  },
  {
   "cell_type": "code",
   "execution_count": 41,
   "metadata": {},
   "outputs": [],
   "source": [
    "pd_playstation = pd_ps_final(pd_playstation,lista_ps)"
   ]
  },
  {
   "cell_type": "code",
   "execution_count": 42,
   "metadata": {},
   "outputs": [],
   "source": [
    "def pd_xb_final(pd_xbox,lista_xb):\n",
    "    afecha_xb_Eu = lista_fechas(lista_xb[1])\n",
    "    afecha_xb_Na = lista_fechas(lista_xb[2])\n",
    "    afecha_xb_Jp = lista_fechas(lista_xb[3])\n",
    "    afecha_xb_Au = lista_fechas(lista_xb[4])\n",
    "\n",
    "    pd_xbox['Año Eu'] = afecha_xb_Eu[0]\n",
    "    pd_xbox['Mes Eu'] = afecha_xb_Eu[1]\n",
    "    pd_xbox['Dia Eu'] = afecha_xb_Eu[2]\n",
    "    pd_xbox['Año Na'] = afecha_xb_Na[0]\n",
    "    pd_xbox['Mes Na'] = afecha_xb_Na[1]\n",
    "    pd_xbox['Dia Na'] = afecha_xb_Na[2]\n",
    "    pd_xbox['Año Jp'] = afecha_xb_Jp[0]\n",
    "    pd_xbox['Mes Jp'] = afecha_xb_Jp[1]\n",
    "    pd_xbox['Dia Jp'] = afecha_xb_Jp[2]\n",
    "    pd_xbox['Año Au'] = afecha_xb_Au[0]\n",
    "    pd_xbox['Mes Au'] = afecha_xb_Au[1]\n",
    "    pd_xbox['Dia Au'] = afecha_xb_Au[2]\n",
    "    return pd_xbox"
   ]
  },
  {
   "cell_type": "code",
   "execution_count": 43,
   "metadata": {},
   "outputs": [],
   "source": [
    "pd_xbox= pd_xb_final(pd_xbox,lista_xb)"
   ]
  },
  {
   "cell_type": "code",
   "execution_count": 44,
   "metadata": {},
   "outputs": [],
   "source": [
    "def pd_sw_final (pd_switch,lista_sw):\n",
    "    afecha_sw_Eu = lista_fechas(lista_sw[1])\n",
    "    afecha_sw_Na = lista_fechas(lista_sw[2])\n",
    "    afecha_sw_Jp = lista_fechas(lista_sw[3])\n",
    "    afecha_sw_Au = lista_fechas(lista_sw[4])\n",
    "\n",
    "    pd_switch['Año Eu'] = afecha_sw_Eu[0]\n",
    "    pd_switch['Mes Eu'] = afecha_sw_Eu[1]\n",
    "    pd_switch['Dia Eu'] = afecha_sw_Eu[2]\n",
    "    pd_switch['Año Na'] = afecha_sw_Na[0]\n",
    "    pd_switch['Mes Na'] = afecha_sw_Na[1]\n",
    "    pd_switch['Dia Na'] = afecha_sw_Na[2]\n",
    "    pd_switch['Año Jp'] = afecha_sw_Jp[0]\n",
    "    pd_switch['Mes Jp'] = afecha_sw_Jp[1]\n",
    "    pd_switch['Dia Jp'] = afecha_sw_Jp[2]\n",
    "    pd_switch['Año Au'] = afecha_sw_Au[0]\n",
    "    pd_switch['Mes Au'] = afecha_sw_Au[1]\n",
    "    pd_switch['Dia Au'] = afecha_sw_Au[2]\n",
    "    return pd_switch"
   ]
  },
  {
   "cell_type": "code",
   "execution_count": 45,
   "metadata": {},
   "outputs": [],
   "source": [
    "pd_switch =pd_sw_final (pd_switch,lista_sw)"
   ]
  },
  {
   "cell_type": "code",
   "execution_count": 46,
   "metadata": {},
   "outputs": [],
   "source": [
    "pd_xbox['plataforma']='xbox'\n",
    "pd_playstation['plataforma']='playstation'\n",
    "pd_switch['plataforma']='switch'"
   ]
  },
  {
   "cell_type": "code",
   "execution_count": 47,
   "metadata": {},
   "outputs": [],
   "source": [
    "def crear_df(pd_playstation,pd_switch,pd_xbox):\n",
    "    df = pd.concat([pd_playstation,pd_switch,pd_xbox],ignore_index=True)\n",
    "    df['Dia Eu'] = df['Dia Eu'].astype('str')\n",
    "    df['Dia Jp'] = df['Dia Jp'].astype('str')\n",
    "    df['Dia Na'] = df['Dia Na'].astype('str')\n",
    "    df['Dia Au'] = df['Dia Au'].astype('str')\n",
    "    df['Año Eu'] = df['Año Eu'].astype('str')\n",
    "    df['Año Jp'] = df['Año Jp'].astype('str')\n",
    "    df['Año Na'] = df['Año Na'].astype('str')\n",
    "    df['Año Au'] = df['Año Au'].astype('str')\n",
    "    df['Mes Eu'] = df['Mes Eu'].astype('str')\n",
    "    df['Mes Jp'] = df['Mes Jp'].astype('str')\n",
    "    df['Mes Na'] = df['Mes Na'].astype('str')\n",
    "    df['Mes Au'] = df['Mes Au'].astype('str')\n",
    "    return df"
   ]
  },
  {
   "cell_type": "code",
   "execution_count": 48,
   "metadata": {},
   "outputs": [
    {
     "name": "stdout",
     "output_type": "stream",
     "text": [
      "<class 'pandas.core.frame.DataFrame'>\n",
      "RangeIndex: 4281 entries, 0 to 4280\n",
      "Data columns (total 17 columns):\n",
      " #   Column      Non-Null Count  Dtype \n",
      "---  ------      --------------  ----- \n",
      " 0   id          4281 non-null   int64 \n",
      " 1   name        4281 non-null   object\n",
      " 2   genre       4281 non-null   object\n",
      " 3   Comp        4281 non-null   object\n",
      " 4   Año Eu      4281 non-null   object\n",
      " 5   Mes Eu      4281 non-null   object\n",
      " 6   Dia Eu      4281 non-null   object\n",
      " 7   Año Na      4281 non-null   object\n",
      " 8   Mes Na      4281 non-null   object\n",
      " 9   Dia Na      4281 non-null   object\n",
      " 10  Año Jp      4281 non-null   object\n",
      " 11  Mes Jp      4281 non-null   object\n",
      " 12  Dia Jp      4281 non-null   object\n",
      " 13  Año Au      4281 non-null   object\n",
      " 14  Mes Au      4281 non-null   object\n",
      " 15  Dia Au      4281 non-null   object\n",
      " 16  plataforma  4281 non-null   object\n",
      "dtypes: int64(1), object(16)\n",
      "memory usage: 568.7+ KB\n"
     ]
    }
   ],
   "source": [
    "df = crear_df(pd_playstation,pd_switch,pd_xbox)\n",
    "df.id=1\n",
    "df.info()"
   ]
  },
  {
   "cell_type": "code",
   "execution_count": 49,
   "metadata": {},
   "outputs": [],
   "source": [
    "df.to_csv('data\\Videojuegos.csv',sep = ';')"
   ]
  },
  {
   "attachments": {},
   "cell_type": "markdown",
   "metadata": {},
   "source": [
    "#graficas"
   ]
  },
  {
   "cell_type": "code",
   "execution_count": 50,
   "metadata": {},
   "outputs": [
    {
     "data": {
      "text/html": [
       "<div>\n",
       "<style scoped>\n",
       "    .dataframe tbody tr th:only-of-type {\n",
       "        vertical-align: middle;\n",
       "    }\n",
       "\n",
       "    .dataframe tbody tr th {\n",
       "        vertical-align: top;\n",
       "    }\n",
       "\n",
       "    .dataframe thead th {\n",
       "        text-align: right;\n",
       "    }\n",
       "</style>\n",
       "<table border=\"1\" class=\"dataframe\">\n",
       "  <thead>\n",
       "    <tr style=\"text-align: right;\">\n",
       "      <th></th>\n",
       "      <th>id</th>\n",
       "      <th>name</th>\n",
       "      <th>genre</th>\n",
       "      <th>Comp</th>\n",
       "      <th>Año Eu</th>\n",
       "      <th>Mes Eu</th>\n",
       "      <th>Dia Eu</th>\n",
       "      <th>Año Na</th>\n",
       "      <th>Mes Na</th>\n",
       "      <th>Dia Na</th>\n",
       "      <th>Año Jp</th>\n",
       "      <th>Mes Jp</th>\n",
       "      <th>Dia Jp</th>\n",
       "      <th>Año Au</th>\n",
       "      <th>Mes Au</th>\n",
       "      <th>Dia Au</th>\n",
       "      <th>plataforma</th>\n",
       "    </tr>\n",
       "  </thead>\n",
       "  <tbody>\n",
       "    <tr>\n",
       "      <th>0</th>\n",
       "      <td>1</td>\n",
       "      <td>#killallzombies</td>\n",
       "      <td>Shooter</td>\n",
       "      <td>EU AU</td>\n",
       "      <td>2014</td>\n",
       "      <td>10</td>\n",
       "      <td>28</td>\n",
       "      <td>2014</td>\n",
       "      <td>11</td>\n",
       "      <td>12</td>\n",
       "      <td>3000</td>\n",
       "      <td>0</td>\n",
       "      <td>0</td>\n",
       "      <td>2014</td>\n",
       "      <td>10</td>\n",
       "      <td>28</td>\n",
       "      <td>playstation</td>\n",
       "    </tr>\n",
       "    <tr>\n",
       "      <th>1</th>\n",
       "      <td>1</td>\n",
       "      <td>10 Second Ninja X</td>\n",
       "      <td>Platform</td>\n",
       "      <td>NA EU AU</td>\n",
       "      <td>2016</td>\n",
       "      <td>7</td>\n",
       "      <td>19</td>\n",
       "      <td>2016</td>\n",
       "      <td>7</td>\n",
       "      <td>19</td>\n",
       "      <td>3000</td>\n",
       "      <td>0</td>\n",
       "      <td>0</td>\n",
       "      <td>2016</td>\n",
       "      <td>7</td>\n",
       "      <td>19</td>\n",
       "      <td>playstation</td>\n",
       "    </tr>\n",
       "  </tbody>\n",
       "</table>\n",
       "</div>"
      ],
      "text/plain": [
       "   id               name     genre      Comp Año Eu Mes Eu Dia Eu Año Na  \\\n",
       "0   1    #killallzombies   Shooter     EU AU   2014     10     28   2014   \n",
       "1   1  10 Second Ninja X  Platform  NA EU AU   2016      7     19   2016   \n",
       "\n",
       "  Mes Na Dia Na Año Jp Mes Jp Dia Jp Año Au Mes Au Dia Au   plataforma  \n",
       "0     11     12   3000      0      0   2014     10     28  playstation  \n",
       "1      7     19   3000      0      0   2016      7     19  playstation  "
      ]
     },
     "execution_count": 50,
     "metadata": {},
     "output_type": "execute_result"
    }
   ],
   "source": [
    "df.head(2)\n"
   ]
  },
  {
   "cell_type": "code",
   "execution_count": 51,
   "metadata": {},
   "outputs": [],
   "source": [
    "import matplotlib.pyplot as plt\n",
    "import seaborn as sb\n"
   ]
  },
  {
   "cell_type": "code",
   "execution_count": 52,
   "metadata": {},
   "outputs": [
    {
     "data": {
      "text/plain": [
       "<AxesSubplot:xlabel='plataforma', ylabel='count'>"
      ]
     },
     "execution_count": 52,
     "metadata": {},
     "output_type": "execute_result"
    },
    {
     "data": {
      "image/png": "[encoded data removed]",
      "text/plain": [
       "<Figure size 1000x500 with 1 Axes>"
      ]
     },
     "metadata": {},
     "output_type": "display_data"
    }
   ],
   "source": [
    "plt.figure(figsize=(10,5))\n",
    "sb.countplot(x=df['plataforma'])"
   ]
  },
  {
   "cell_type": "code",
   "execution_count": 53,
   "metadata": {},
   "outputs": [],
   "source": [
    "df1 = df.copy()\n",
    "df1[df1.genre=='Sin genero']=np.NaN\n",
    "df1.dropna(inplace=True)"
   ]
  },
  {
   "cell_type": "code",
   "execution_count": 54,
   "metadata": {},
   "outputs": [
    {
     "data": {
      "image/png": "[encoded data removed]",
      "text/plain": [
       "<Figure size 10000x3000 with 1 Axes>"
      ]
     },
     "metadata": {},
     "output_type": "display_data"
    }
   ],
   "source": [
    "df1 = df.copy()\n",
    "df1[df1.genre=='Sin genero']=np.NaN\n",
    "df1.dropna(inplace=True)\n",
    "plt.figure(figsize=(100,30))\n",
    "sb.countplot(x=df1.genre)\n",
    "plt.xticks(rotation=-45);"
   ]
  },
  {
   "cell_type": "code",
   "execution_count": 70,
   "metadata": {},
   "outputs": [],
   "source": [
    "def juegos_mes(df):\n",
    "    conteo = df['Mes Eu'].value_counts(ascending=True)\n",
    "    plt.figure(figsize=(10,5))\n",
    "    plt.hlines(y=conteo.index,xmin=0,xmax=conteo,color ='skyblue')\n",
    "    plt.plot(conteo,conteo.index,'o')\n",
    "    plt.title('Cantidad de juegos que han salido cada mes en Europa')\n",
    "\n",
    "    conteo = df['Mes Na'].value_counts(ascending=True)\n",
    "    plt.figure(figsize=(10,5))\n",
    "    plt.hlines(y=conteo.index,xmin=0,xmax=conteo,color ='skyblue')\n",
    "    plt.plot(conteo,conteo.index,'o')\n",
    "    plt.title('Cantidad de juegos que han salido cada mes en Norte América')\n",
    "\n",
    "    conteo = df['Mes Jp'].value_counts(ascending=True)\n",
    "    plt.figure(figsize=(10,5))\n",
    "    plt.hlines(y=conteo.index,xmin=0,xmax=conteo,color ='skyblue')\n",
    "    plt.plot(conteo,conteo.index,'o')\n",
    "    plt.title('Cantidad de juegos que han salido cada mes en Japón')\n",
    "\n",
    "    conteo = df['Mes Au'].value_counts(ascending=True)\n",
    "    plt.figure(figsize=(10,5))\n",
    "    plt.hlines(y=conteo.index,xmin=0,xmax=conteo,color ='skyblue')\n",
    "    plt.plot(conteo,conteo.index,'o')\n",
    "    plt.title('Cantidad de juegos que han salido cada mes en Australia')"
   ]
  },
  {
   "cell_type": "code",
   "execution_count": 71,
   "metadata": {},
   "outputs": [
    {
     "data": {
      "image/png": "[encoded data removed]",
      "text/plain": [
       "<Figure size 1000x500 with 1 Axes>"
      ]
     },
     "metadata": {},
     "output_type": "display_data"
    },
    {
     "data": {
      "image/png": "[encoded data removed]",
      "text/plain": [
       "<Figure size 1000x500 with 1 Axes>"
      ]
     },
     "metadata": {},
     "output_type": "display_data"
    },
    {
     "data": {
      "image/png": "[encoded data removed]",
      "text/plain": [
       "<Figure size 1000x500 with 1 Axes>"
      ]
     },
     "metadata": {},
     "output_type": "display_data"
    },
    {
     "data": {
      "image/png": "[encoded data removed]",
      "text/plain": [
       "<Figure size 1000x500 with 1 Axes>"
      ]
     },
     "metadata": {},
     "output_type": "display_data"
    }
   ],
   "source": [
    "juegos_mes(df)"
   ]
  },
  {
   "cell_type": "code",
   "execution_count": 57,
   "metadata": {},
   "outputs": [],
   "source": [
    "from plotly.offline import init_notebook_mode, iplot, plot\n",
    "import plotly as py\n",
    "import plotly.graph_objs as go"
   ]
  },
  {
   "cell_type": "code",
   "execution_count": 58,
   "metadata": {},
   "outputs": [],
   "source": [
    "def plataforma_year(df):\n",
    "    \n",
    "    df_pd = df[df['plataforma']=='playstation']\n",
    "    df_xb = df[df['plataforma']=='xbox']\n",
    "    df_sw = df[df['plataforma']=='switch']\n",
    "    s2 = pd.DataFrame(df_xb.groupby('Año Eu').sum('id'))\n",
    "    s3 = pd.DataFrame(df_sw.groupby('Año Eu').sum('id'))\n",
    "    s1 = pd.DataFrame(df_pd.groupby('Año Eu').sum('id'))\n",
    "    \n",
    "    s1 ['Año'] = s1.index\n",
    "    s2 ['Año'] = s2.index\n",
    "    s3 ['Año']= s3.index\n",
    "    s1[s1.Año=='3000'] = np.NaN\n",
    "    s2[s2.Año=='3000'] = np.NaN\n",
    "    s3[s3.Año=='3000'] = np.NaN\n",
    "    s2[s2.Año=='2010'] = np.NaN\n",
    "    s1.dropna(inplace=True)\n",
    "    s2.dropna(inplace=True)\n",
    "    s3.dropna(inplace=True)\n",
    "    \n",
    "    trace1 = go.Bar(x=s1.Año,y=s1.id,name='playstation', marker= dict(color='rgba(255,174,255,0.5)',line = dict(color='rgb(0,0,0)', width = 1.5)))\n",
    "    trace2 = go.Bar(x=s2.Año,y=s2.id,name='xbox', marker= dict(color='rgba(255, 255, 128, 0.5)',line = dict(color='rgb(0,0,0)', width = 1.5)))\n",
    "    trace3 = go.Bar(x=s3.Año,y=s3.id,name='switch', marker= dict(color='skyblue',line = dict(color='rgb(0,0,0)', width = 1.5)))\n",
    "    data = [trace1,trace2,trace3]\n",
    "    layout = go.Layout(title ='Cantidad de juegos que han salido en Europa, filtrado por plataformas',barmode='group')\n",
    "    fig = go.Figure(data=data,layout=layout)\n",
    "    iplot(fig)\n",
    "\n",
    "    \n",
    "    s2 = pd.DataFrame(df_xb.groupby('Año Jp').sum('id'))\n",
    "    s3 = pd.DataFrame(df_sw.groupby('Año Jp').sum('id'))\n",
    "    s1 = pd.DataFrame(df_pd.groupby('Año Jp').sum('id'))\n",
    "    s1 ['Año'] = s1.index\n",
    "    s2 ['Año'] = s2.index\n",
    "    s3 ['Año']= s3.index\n",
    "    s1[s1.Año=='3000'] = np.NaN\n",
    "    s2[s2.Año=='3000'] = np.NaN\n",
    "    s3[s3.Año=='3000'] = np.NaN\n",
    "    s2[s2.Año=='2010'] = np.NaN\n",
    "    s1.dropna(inplace=True)\n",
    "    s2.dropna(inplace=True)\n",
    "    s3.dropna(inplace=True)\n",
    "    trace1 = go.Bar(x=s1.Año,y=s1.id,name='playstation', marker= dict(color='rgba(255,174,255,0.5)',line = dict(color='rgb(0,0,0)', width = 1.5)))\n",
    "    trace2 = go.Bar(x=s2.Año,y=s2.id,name='xbox', marker= dict(color='rgba(255, 255, 128, 0.5)',line = dict(color='rgb(0,0,0)', width = 1.5)))\n",
    "    trace3 = go.Bar(x=s3.Año,y=s3.id,name='switch', marker= dict(color='skyblue',line = dict(color='rgb(0,0,0)', width = 1.5)))\n",
    "    data = [trace1,trace2,trace3]\n",
    "    layout = go.Layout(title ='Cantidad de juegos que han salido en Japón, filtrado por plataformas',barmode='group')\n",
    "    fig = go.Figure(data=data,layout=layout)\n",
    "    iplot(fig)\n",
    "\n",
    "    s2 = pd.DataFrame(df_xb.groupby('Año Au').sum('id'))\n",
    "    s3 = pd.DataFrame(df_sw.groupby('Año Au').sum('id'))\n",
    "    s1 = pd.DataFrame(df_pd.groupby('Año Au').sum('id'))\n",
    "    \n",
    "    s1 ['Año'] = s1.index\n",
    "    s2 ['Año'] = s2.index\n",
    "    s3 ['Año']= s3.index\n",
    "    s1[s1.Año=='3000'] = np.NaN\n",
    "    s2[s2.Año=='3000'] = np.NaN\n",
    "    s3[s3.Año=='3000'] = np.NaN\n",
    "    s2[s2.Año=='2010'] = np.NaN\n",
    "    s1.dropna(inplace=True)\n",
    "    s2.dropna(inplace=True)\n",
    "    s3.dropna(inplace=True)\n",
    "    trace1 = go.Bar(x=s1.Año,y=s1.id,name='playstation', marker= dict(color='rgba(255,174,255,0.5)',line = dict(color='rgb(0,0,0)', width = 1.5)))\n",
    "    trace2 = go.Bar(x=s2.Año,y=s2.id,name='xbox', marker= dict(color='rgba(255, 255, 128, 0.5)',line = dict(color='rgb(0,0,0)', width = 1.5)))\n",
    "    trace3 = go.Bar(x=s3.Año,y=s3.id,name='switch', marker= dict(color='skyblue',line = dict(color='rgb(0,0,0)', width = 1.5)))\n",
    "    data = [trace1,trace2,trace3]\n",
    "    layout = go.Layout(title ='Cantidad de juegos que han salido en Australia, filtrado por plataformas',barmode='group')\n",
    "    fig = go.Figure(data=data,layout=layout)\n",
    "    iplot(fig)\n",
    "    s2 = pd.DataFrame(df_xb.groupby('Año Na').sum('id'))\n",
    "    s3 = pd.DataFrame(df_sw.groupby('Año Na').sum('id'))\n",
    "    s1 = pd.DataFrame(df_pd.groupby('Año Na').sum('id'))\n",
    "    s1 ['Año'] = s1.index\n",
    "    s2 ['Año'] = s2.index\n",
    "    s3 ['Año']= s3.index\n",
    "    s1[s1.Año=='3000'] = np.NaN\n",
    "    s2[s2.Año=='3000'] = np.NaN\n",
    "    s3[s3.Año=='3000'] = np.NaN\n",
    "    s2[s2.Año=='2010'] = np.NaN\n",
    "    s1.dropna(inplace=True)\n",
    "    s2.dropna(inplace=True)\n",
    "    s3.dropna(inplace=True)\n",
    "    trace1 = go.Bar(x=s1.Año,y=s1.id,name='playstation', marker= dict(color='rgba(255,174,255,0.5)',line = dict(color='rgb(0,0,0)', width = 1.5)))\n",
    "    trace2 = go.Bar(x=s2.Año,y=s2.id,name='xbox', marker= dict(color='rgba(255, 255, 128, 0.5)',line = dict(color='rgb(0,0,0)', width = 1.5)))\n",
    "    trace3 = go.Bar(x=s3.Año,y=s3.id,name='switch', marker= dict(color='skyblue',line = dict(color='rgb(0,0,0)', width = 1.5)))\n",
    "    data = [trace1,trace2,trace3]\n",
    "    layout = go.Layout(title ='Cantidad de juegos que han salido en Norte América, filtrado por plataformas',barmode='group')\n",
    "    fig = go.Figure(data=data,layout=layout)\n",
    "    iplot(fig)"
   ]
  },
  {
   "cell_type": "code",
   "execution_count": 59,
   "metadata": {},
   "outputs": [
    {
     "data": {
      "text/html": [
       "<div>\n",
       "<style scoped>\n",
       "    .dataframe tbody tr th:only-of-type {\n",
       "        vertical-align: middle;\n",
       "    }\n",
       "\n",
       "    .dataframe tbody tr th {\n",
       "        vertical-align: top;\n",
       "    }\n",
       "\n",
       "    .dataframe thead th {\n",
       "        text-align: right;\n",
       "    }\n",
       "</style>\n",
       "<table border=\"1\" class=\"dataframe\">\n",
       "  <thead>\n",
       "    <tr style=\"text-align: right;\">\n",
       "      <th></th>\n",
       "      <th>id</th>\n",
       "      <th>name</th>\n",
       "      <th>genre</th>\n",
       "      <th>Comp</th>\n",
       "      <th>Año Eu</th>\n",
       "      <th>Mes Eu</th>\n",
       "      <th>Dia Eu</th>\n",
       "      <th>Año Na</th>\n",
       "      <th>Mes Na</th>\n",
       "      <th>Dia Na</th>\n",
       "      <th>Año Jp</th>\n",
       "      <th>Mes Jp</th>\n",
       "      <th>Dia Jp</th>\n",
       "      <th>Año Au</th>\n",
       "      <th>Mes Au</th>\n",
       "      <th>Dia Au</th>\n",
       "      <th>plataforma</th>\n",
       "    </tr>\n",
       "  </thead>\n",
       "  <tbody>\n",
       "    <tr>\n",
       "      <th>0</th>\n",
       "      <td>1</td>\n",
       "      <td>#killallzombies</td>\n",
       "      <td>Shooter</td>\n",
       "      <td>EU AU</td>\n",
       "      <td>2014</td>\n",
       "      <td>10</td>\n",
       "      <td>28</td>\n",
       "      <td>2014</td>\n",
       "      <td>11</td>\n",
       "      <td>12</td>\n",
       "      <td>3000</td>\n",
       "      <td>0</td>\n",
       "      <td>0</td>\n",
       "      <td>2014</td>\n",
       "      <td>10</td>\n",
       "      <td>28</td>\n",
       "      <td>playstation</td>\n",
       "    </tr>\n",
       "    <tr>\n",
       "      <th>1</th>\n",
       "      <td>1</td>\n",
       "      <td>10 Second Ninja X</td>\n",
       "      <td>Platform</td>\n",
       "      <td>NA EU AU</td>\n",
       "      <td>2016</td>\n",
       "      <td>7</td>\n",
       "      <td>19</td>\n",
       "      <td>2016</td>\n",
       "      <td>7</td>\n",
       "      <td>19</td>\n",
       "      <td>3000</td>\n",
       "      <td>0</td>\n",
       "      <td>0</td>\n",
       "      <td>2016</td>\n",
       "      <td>7</td>\n",
       "      <td>19</td>\n",
       "      <td>playstation</td>\n",
       "    </tr>\n",
       "  </tbody>\n",
       "</table>\n",
       "</div>"
      ],
      "text/plain": [
       "   id               name     genre      Comp Año Eu Mes Eu Dia Eu Año Na  \\\n",
       "0   1    #killallzombies   Shooter     EU AU   2014     10     28   2014   \n",
       "1   1  10 Second Ninja X  Platform  NA EU AU   2016      7     19   2016   \n",
       "\n",
       "  Mes Na Dia Na Año Jp Mes Jp Dia Jp Año Au Mes Au Dia Au   plataforma  \n",
       "0     11     12   3000      0      0   2014     10     28  playstation  \n",
       "1      7     19   3000      0      0   2016      7     19  playstation  "
      ]
     },
     "execution_count": 59,
     "metadata": {},
     "output_type": "execute_result"
    }
   ],
   "source": [
    "df.head(2)"
   ]
  },
  {
   "cell_type": "code",
   "execution_count": 60,
   "metadata": {},
   "outputs": [
    {
     "data": {
      "application/vnd.plotly.v1+json": {
       "config": {
        "linkText": "Export to plot.ly",
        "plotlyServerURL": "https://plot.ly",
        "showLink": false
       },
       "data": [
        {
         "marker": {
          "color": "rgba(255,174,255,0.5)",
          "line": {
           "color": "rgb(0,0,0)",
           "width": 1.5
          }
         },
         "name": "playstation",
         "type": "bar",
         "x": [
          "2013",
          "2014",
          "2015",
          "2016",
          "2017",
          "2018",
          "2019",
          "2020",
          "2021"
         ],
         "y": [
          16,
          75,
          120,
          200,
          207,
          151,
          212,
          57,
          1
         ]
        },
        {
         "marker": {
          "color": "rgba(255, 255, 128, 0.5)",
          "line": {
           "color": "rgb(0,0,0)",
           "width": 1.5
          }
         },
         "name": "xbox",
         "type": "bar",
         "x": [
          "2013",
          "2014",
          "2015",
          "2016",
          "2017",
          "2018",
          "2019",
          "2020"
         ],
         "y": [
          24,
          112,
          224,
          374,
          415,
          465,
          530,
          30
         ]
        },
        {
         "marker": {
          "color": "skyblue",
          "line": {
           "color": "rgb(0,0,0)",
           "width": 1.5
          }
         },
         "name": "switch",
         "type": "bar",
         "x": [
          "2017",
          "2018",
          "2019",
          "2020",
          "2021"
         ],
         "y": [
          116,
          320,
          416,
          82,
          3
         ]
        }
       ],
       "layout": {
        "barmode": "group",
        "template": {
         "data": {
          "bar": [
           {
            "error_x": {
             "color": "#2a3f5f"
            },
            "error_y": {
             "color": "#2a3f5f"
            },
            "marker": {
             "line": {
              "color": "#E5ECF6",
              "width": 0.5
             },
             "pattern": {
              "fillmode": "overlay",
              "size": 10,
              "solidity": 0.2
             }
            },
            "type": "bar"
           }
          ],
          "barpolar": [
           {
            "marker": {
             "line": {
              "color": "#E5ECF6",
              "width": 0.5
             },
             "pattern": {
              "fillmode": "overlay",
              "size": 10,
              "solidity": 0.2
             }
            },
            "type": "barpolar"
           }
          ],
          "carpet": [
           {
            "aaxis": {
             "endlinecolor": "#2a3f5f",
             "gridcolor": "white",
             "linecolor": "white",
             "minorgridcolor": "white",
             "startlinecolor": "#2a3f5f"
            },
            "baxis": {
             "endlinecolor": "#2a3f5f",
             "gridcolor": "white",
             "linecolor": "white",
             "minorgridcolor": "white",
             "startlinecolor": "#2a3f5f"
            },
            "type": "carpet"
           }
          ],
          "choropleth": [
           {
            "colorbar": {
             "outlinewidth": 0,
             "ticks": ""
            },
            "type": "choropleth"
           }
          ],
          "contour": [
           {
            "colorbar": {
             "outlinewidth": 0,
             "ticks": ""
            },
            "colorscale": [
             [
              0,
              "#0d0887"
             ],
             [
              0.1111111111111111,
              "#46039f"
             ],
             [
              0.2222222222222222,
              "#7201a8"
             ],
             [
              0.3333333333333333,
              "#9c179e"
             ],
             [
              0.4444444444444444,
              "#bd3786"
             ],
             [
              0.5555555555555556,
              "#d8576b"
             ],
             [
              0.6666666666666666,
              "#ed7953"
             ],
             [
              0.7777777777777778,
              "#fb9f3a"
             ],
             [
              0.8888888888888888,
              "#fdca26"
             ],
             [
              1,
              "#f0f921"
             ]
            ],
            "type": "contour"
           }
          ],
          "contourcarpet": [
           {
            "colorbar": {
             "outlinewidth": 0,
             "ticks": ""
            },
            "type": "contourcarpet"
           }
          ],
          "heatmap": [
           {
            "colorbar": {
             "outlinewidth": 0,
             "ticks": ""
            },
            "colorscale": [
             [
              0,
              "#0d0887"
             ],
             [
              0.1111111111111111,
              "#46039f"
             ],
             [
              0.2222222222222222,
              "#7201a8"
             ],
             [
              0.3333333333333333,
              "#9c179e"
             ],
             [
              0.4444444444444444,
              "#bd3786"
             ],
             [
              0.5555555555555556,
              "#d8576b"
             ],
             [
              0.6666666666666666,
              "#ed7953"
             ],
             [
              0.7777777777777778,
              "#fb9f3a"
             ],
             [
              0.8888888888888888,
              "#fdca26"
             ],
             [
              1,
              "#f0f921"
             ]
            ],
            "type": "heatmap"
           }
          ],
          "heatmapgl": [
           {
            "colorbar": {
             "outlinewidth": 0,
             "ticks": ""
            },
            "colorscale": [
             [
              0,
              "#0d0887"
             ],
             [
              0.1111111111111111,
              "#46039f"
             ],
             [
              0.2222222222222222,
              "#7201a8"
             ],
             [
              0.3333333333333333,
              "#9c179e"
             ],
             [
              0.4444444444444444,
              "#bd3786"
             ],
             [
              0.5555555555555556,
              "#d8576b"
             ],
             [
              0.6666666666666666,
              "#ed7953"
             ],
             [
              0.7777777777777778,
              "#fb9f3a"
             ],
             [
              0.8888888888888888,
              "#fdca26"
             ],
             [
              1,
              "#f0f921"
             ]
            ],
            "type": "heatmapgl"
           }
          ],
          "histogram": [
           {
            "marker": {
             "pattern": {
              "fillmode": "overlay",
              "size": 10,
              "solidity": 0.2
             }
            },
            "type": "histogram"
           }
          ],
          "histogram2d": [
           {
            "colorbar": {
             "outlinewidth": 0,
             "ticks": ""
            },
            "colorscale": [
             [
              0,
              "#0d0887"
             ],
             [
              0.1111111111111111,
              "#46039f"
             ],
             [
              0.2222222222222222,
              "#7201a8"
             ],
             [
              0.3333333333333333,
              "#9c179e"
             ],
             [
              0.4444444444444444,
              "#bd3786"
             ],
             [
              0.5555555555555556,
              "#d8576b"
             ],
             [
              0.6666666666666666,
              "#ed7953"
             ],
             [
              0.7777777777777778,
              "#fb9f3a"
             ],
             [
              0.8888888888888888,
              "#fdca26"
             ],
             [
              1,
              "#f0f921"
             ]
            ],
            "type": "histogram2d"
           }
          ],
          "histogram2dcontour": [
           {
            "colorbar": {
             "outlinewidth": 0,
             "ticks": ""
            },
            "colorscale": [
             [
              0,
              "#0d0887"
             ],
             [
              0.1111111111111111,
              "#46039f"
             ],
             [
              0.2222222222222222,
              "#7201a8"
             ],
             [
              0.3333333333333333,
              "#9c179e"
             ],
             [
              0.4444444444444444,
              "#bd3786"
             ],
             [
              0.5555555555555556,
              "#d8576b"
             ],
             [
              0.6666666666666666,
              "#ed7953"
             ],
             [
              0.7777777777777778,
              "#fb9f3a"
             ],
             [
              0.8888888888888888,
              "#fdca26"
             ],
             [
              1,
              "#f0f921"
             ]
            ],
            "type": "histogram2dcontour"
           }
          ],
          "mesh3d": [
           {
            "colorbar": {
             "outlinewidth": 0,
             "ticks": ""
            },
            "type": "mesh3d"
           }
          ],
          "parcoords": [
           {
            "line": {
             "colorbar": {
              "outlinewidth": 0,
              "ticks": ""
             }
            },
            "type": "parcoords"
           }
          ],
          "pie": [
           {
            "automargin": true,
            "type": "pie"
           }
          ],
          "scatter": [
           {
            "fillpattern": {
             "fillmode": "overlay",
             "size": 10,
             "solidity": 0.2
            },
            "type": "scatter"
           }
          ],
          "scatter3d": [
           {
            "line": {
             "colorbar": {
              "outlinewidth": 0,
              "ticks": ""
             }
            },
            "marker": {
             "colorbar": {
              "outlinewidth": 0,
              "ticks": ""
             }
            },
            "type": "scatter3d"
           }
          ],
          "scattercarpet": [
           {
            "marker": {
             "colorbar": {
              "outlinewidth": 0,
              "ticks": ""
             }
            },
            "type": "scattercarpet"
           }
          ],
          "scattergeo": [
           {
            "marker": {
             "colorbar": {
              "outlinewidth": 0,
              "ticks": ""
             }
            },
            "type": "scattergeo"
           }
          ],
          "scattergl": [
           {
            "marker": {
             "colorbar": {
              "outlinewidth": 0,
              "ticks": ""
             }
            },
            "type": "scattergl"
           }
          ],
          "scattermapbox": [
           {
            "marker": {
             "colorbar": {
              "outlinewidth": 0,
              "ticks": ""
             }
            },
            "type": "scattermapbox"
           }
          ],
          "scatterpolar": [
           {
            "marker": {
             "colorbar": {
              "outlinewidth": 0,
              "ticks": ""
             }
            },
            "type": "scatterpolar"
           }
          ],
          "scatterpolargl": [
           {
            "marker": {
             "colorbar": {
              "outlinewidth": 0,
              "ticks": ""
             }
            },
            "type": "scatterpolargl"
           }
          ],
          "scatterternary": [
           {
            "marker": {
             "colorbar": {
              "outlinewidth": 0,
              "ticks": ""
             }
            },
            "type": "scatterternary"
           }
          ],
          "surface": [
           {
            "colorbar": {
             "outlinewidth": 0,
             "ticks": ""
            },
            "colorscale": [
             [
              0,
              "#0d0887"
             ],
             [
              0.1111111111111111,
              "#46039f"
             ],
             [
              0.2222222222222222,
              "#7201a8"
             ],
             [
              0.3333333333333333,
              "#9c179e"
             ],
             [
              0.4444444444444444,
              "#bd3786"
             ],
             [
              0.5555555555555556,
              "#d8576b"
             ],
             [
              0.6666666666666666,
              "#ed7953"
             ],
             [
              0.7777777777777778,
              "#fb9f3a"
             ],
             [
              0.8888888888888888,
              "#fdca26"
             ],
             [
              1,
              "#f0f921"
             ]
            ],
            "type": "surface"
           }
          ],
          "table": [
           {
            "cells": {
             "fill": {
              "color": "#EBF0F8"
             },
             "line": {
              "color": "white"
             }
            },
            "header": {
             "fill": {
              "color": "#C8D4E3"
             },
             "line": {
              "color": "white"
             }
            },
            "type": "table"
           }
          ]
         },
         "layout": {
          "annotationdefaults": {
           "arrowcolor": "#2a3f5f",
           "arrowhead": 0,
           "arrowwidth": 1
          },
          "autotypenumbers": "strict",
          "coloraxis": {
           "colorbar": {
            "outlinewidth": 0,
            "ticks": ""
           }
          },
          "colorscale": {
           "diverging": [
            [
             0,
             "#8e0152"
            ],
            [
             0.1,
             "#c51b7d"
            ],
            [
             0.2,
             "#de77ae"
            ],
            [
             0.3,
             "#f1b6da"
            ],
            [
             0.4,
             "#fde0ef"
            ],
            [
             0.5,
             "#f7f7f7"
            ],
            [
             0.6,
             "#e6f5d0"
            ],
            [
             0.7,
             "#b8e186"
            ],
            [
             0.8,
             "#7fbc41"
            ],
            [
             0.9,
             "#4d9221"
            ],
            [
             1,
             "#276419"
            ]
           ],
           "sequential": [
            [
             0,
             "#0d0887"
            ],
            [
             0.1111111111111111,
             "#46039f"
            ],
            [
             0.2222222222222222,
             "#7201a8"
            ],
            [
             0.3333333333333333,
             "#9c179e"
            ],
            [
             0.4444444444444444,
             "#bd3786"
            ],
            [
             0.5555555555555556,
             "#d8576b"
            ],
            [
             0.6666666666666666,
             "#ed7953"
            ],
            [
             0.7777777777777778,
             "#fb9f3a"
            ],
            [
             0.8888888888888888,
             "#fdca26"
            ],
            [
             1,
             "#f0f921"
            ]
           ],
           "sequentialminus": [
            [
             0,
             "#0d0887"
            ],
            [
             0.1111111111111111,
             "#46039f"
            ],
            [
             0.2222222222222222,
             "#7201a8"
            ],
            [
             0.3333333333333333,
             "#9c179e"
            ],
            [
             0.4444444444444444,
             "#bd3786"
            ],
            [
             0.5555555555555556,
             "#d8576b"
            ],
            [
             0.6666666666666666,
             "#ed7953"
            ],
            [
             0.7777777777777778,
             "#fb9f3a"
            ],
            [
             0.8888888888888888,
             "#fdca26"
            ],
            [
             1,
             "#f0f921"
            ]
           ]
          },
          "colorway": [
           "#636efa",
           "#EF553B",
           "#00cc96",
           "#ab63fa",
           "#FFA15A",
           "#19d3f3",
           "#FF6692",
           "#B6E880",
           "#FF97FF",
           "#FECB52"
          ],
          "font": {
           "color": "#2a3f5f"
          },
          "geo": {
           "bgcolor": "white",
           "lakecolor": "white",
           "landcolor": "#E5ECF6",
           "showlakes": true,
           "showland": true,
           "subunitcolor": "white"
          },
          "hoverlabel": {
           "align": "left"
          },
          "hovermode": "closest",
          "mapbox": {
           "style": "light"
          },
          "paper_bgcolor": "white",
          "plot_bgcolor": "#E5ECF6",
          "polar": {
           "angularaxis": {
            "gridcolor": "white",
            "linecolor": "white",
            "ticks": ""
           },
           "bgcolor": "#E5ECF6",
           "radialaxis": {
            "gridcolor": "white",
            "linecolor": "white",
            "ticks": ""
           }
          },
          "scene": {
           "xaxis": {
            "backgroundcolor": "#E5ECF6",
            "gridcolor": "white",
            "gridwidth": 2,
            "linecolor": "white",
            "showbackground": true,
            "ticks": "",
            "zerolinecolor": "white"
           },
           "yaxis": {
            "backgroundcolor": "#E5ECF6",
            "gridcolor": "white",
            "gridwidth": 2,
            "linecolor": "white",
            "showbackground": true,
            "ticks": "",
            "zerolinecolor": "white"
           },
           "zaxis": {
            "backgroundcolor": "#E5ECF6",
            "gridcolor": "white",
            "gridwidth": 2,
            "linecolor": "white",
            "showbackground": true,
            "ticks": "",
            "zerolinecolor": "white"
           }
          },
          "shapedefaults": {
           "line": {
            "color": "#2a3f5f"
           }
          },
          "ternary": {
           "aaxis": {
            "gridcolor": "white",
            "linecolor": "white",
            "ticks": ""
           },
           "baxis": {
            "gridcolor": "white",
            "linecolor": "white",
            "ticks": ""
           },
           "bgcolor": "#E5ECF6",
           "caxis": {
            "gridcolor": "white",
            "linecolor": "white",
            "ticks": ""
           }
          },
          "title": {
           "x": 0.05
          },
          "xaxis": {
           "automargin": true,
           "gridcolor": "white",
           "linecolor": "white",
           "ticks": "",
           "title": {
            "standoff": 15
           },
           "zerolinecolor": "white",
           "zerolinewidth": 2
          },
          "yaxis": {
           "automargin": true,
           "gridcolor": "white",
           "linecolor": "white",
           "ticks": "",
           "title": {
            "standoff": 15
           },
           "zerolinecolor": "white",
           "zerolinewidth": 2
          }
         }
        },
        "title": {
         "text": "Cantidad de juegos que han salido en Europa, filtrado por plataformas"
        }
       }
      }
     },
     "metadata": {},
     "output_type": "display_data"
    },
    {
     "data": {
      "application/vnd.plotly.v1+json": {
       "config": {
        "linkText": "Export to plot.ly",
        "plotlyServerURL": "https://plot.ly",
        "showLink": false
       },
       "data": [
        {
         "marker": {
          "color": "rgba(255,174,255,0.5)",
          "line": {
           "color": "rgb(0,0,0)",
           "width": 1.5
          }
         },
         "name": "playstation",
         "type": "bar",
         "x": [
          "2014",
          "2015",
          "2016",
          "2017",
          "2018",
          "2019",
          "2020"
         ],
         "y": [
          54,
          91,
          113,
          123,
          105,
          132,
          42
         ]
        },
        {
         "marker": {
          "color": "rgba(255, 255, 128, 0.5)",
          "line": {
           "color": "rgb(0,0,0)",
           "width": 1.5
          }
         },
         "name": "xbox",
         "type": "bar",
         "x": [
          "2013",
          "2014",
          "2015",
          "2016",
          "2017",
          "2018",
          "2019",
          "2020"
         ],
         "y": [
          3,
          75,
          114,
          174,
          263,
          188,
          349,
          22
         ]
        },
        {
         "marker": {
          "color": "skyblue",
          "line": {
           "color": "rgb(0,0,0)",
           "width": 1.5
          }
         },
         "name": "switch",
         "type": "bar",
         "x": [
          "2017",
          "2018",
          "2019",
          "2020"
         ],
         "y": [
          76,
          205,
          230,
          47
         ]
        }
       ],
       "layout": {
        "barmode": "group",
        "template": {
         "data": {
          "bar": [
           {
            "error_x": {
             "color": "#2a3f5f"
            },
            "error_y": {
             "color": "#2a3f5f"
            },
            "marker": {
             "line": {
              "color": "#E5ECF6",
              "width": 0.5
             },
             "pattern": {
              "fillmode": "overlay",
              "size": 10,
              "solidity": 0.2
             }
            },
            "type": "bar"
           }
          ],
          "barpolar": [
           {
            "marker": {
             "line": {
              "color": "#E5ECF6",
              "width": 0.5
             },
             "pattern": {
              "fillmode": "overlay",
              "size": 10,
              "solidity": 0.2
             }
            },
            "type": "barpolar"
           }
          ],
          "carpet": [
           {
            "aaxis": {
             "endlinecolor": "#2a3f5f",
             "gridcolor": "white",
             "linecolor": "white",
             "minorgridcolor": "white",
             "startlinecolor": "#2a3f5f"
            },
            "baxis": {
             "endlinecolor": "#2a3f5f",
             "gridcolor": "white",
             "linecolor": "white",
             "minorgridcolor": "white",
             "startlinecolor": "#2a3f5f"
            },
            "type": "carpet"
           }
          ],
          "choropleth": [
           {
            "colorbar": {
             "outlinewidth": 0,
             "ticks": ""
            },
            "type": "choropleth"
           }
          ],
          "contour": [
           {
            "colorbar": {
             "outlinewidth": 0,
             "ticks": ""
            },
            "colorscale": [
             [
              0,
              "#0d0887"
             ],
             [
              0.1111111111111111,
              "#46039f"
             ],
             [
              0.2222222222222222,
              "#7201a8"
             ],
             [
              0.3333333333333333,
              "#9c179e"
             ],
             [
              0.4444444444444444,
              "#bd3786"
             ],
             [
              0.5555555555555556,
              "#d8576b"
             ],
             [
              0.6666666666666666,
              "#ed7953"
             ],
             [
              0.7777777777777778,
              "#fb9f3a"
             ],
             [
              0.8888888888888888,
              "#fdca26"
             ],
             [
              1,
              "#f0f921"
             ]
            ],
            "type": "contour"
           }
          ],
          "contourcarpet": [
           {
            "colorbar": {
             "outlinewidth": 0,
             "ticks": ""
            },
            "type": "contourcarpet"
           }
          ],
          "heatmap": [
           {
            "colorbar": {
             "outlinewidth": 0,
             "ticks": ""
            },
            "colorscale": [
             [
              0,
              "#0d0887"
             ],
             [
              0.1111111111111111,
              "#46039f"
             ],
             [
              0.2222222222222222,
              "#7201a8"
             ],
             [
              0.3333333333333333,
              "#9c179e"
             ],
             [
              0.4444444444444444,
              "#bd3786"
             ],
             [
              0.5555555555555556,
              "#d8576b"
             ],
             [
              0.6666666666666666,
              "#ed7953"
             ],
             [
              0.7777777777777778,
              "#fb9f3a"
             ],
             [
              0.8888888888888888,
              "#fdca26"
             ],
             [
              1,
              "#f0f921"
             ]
            ],
            "type": "heatmap"
           }
          ],
          "heatmapgl": [
           {
            "colorbar": {
             "outlinewidth": 0,
             "ticks": ""
            },
            "colorscale": [
             [
              0,
              "#0d0887"
             ],
             [
              0.1111111111111111,
              "#46039f"
             ],
             [
              0.2222222222222222,
              "#7201a8"
             ],
             [
              0.3333333333333333,
              "#9c179e"
             ],
             [
              0.4444444444444444,
              "#bd3786"
             ],
             [
              0.5555555555555556,
              "#d8576b"
             ],
             [
              0.6666666666666666,
              "#ed7953"
             ],
             [
              0.7777777777777778,
              "#fb9f3a"
             ],
             [
              0.8888888888888888,
              "#fdca26"
             ],
             [
              1,
              "#f0f921"
             ]
            ],
            "type": "heatmapgl"
           }
          ],
          "histogram": [
           {
            "marker": {
             "pattern": {
              "fillmode": "overlay",
              "size": 10,
              "solidity": 0.2
             }
            },
            "type": "histogram"
           }
          ],
          "histogram2d": [
           {
            "colorbar": {
             "outlinewidth": 0,
             "ticks": ""
            },
            "colorscale": [
             [
              0,
              "#0d0887"
             ],
             [
              0.1111111111111111,
              "#46039f"
             ],
             [
              0.2222222222222222,
              "#7201a8"
             ],
             [
              0.3333333333333333,
              "#9c179e"
             ],
             [
              0.4444444444444444,
              "#bd3786"
             ],
             [
              0.5555555555555556,
              "#d8576b"
             ],
             [
              0.6666666666666666,
              "#ed7953"
             ],
             [
              0.7777777777777778,
              "#fb9f3a"
             ],
             [
              0.8888888888888888,
              "#fdca26"
             ],
             [
              1,
              "#f0f921"
             ]
            ],
            "type": "histogram2d"
           }
          ],
          "histogram2dcontour": [
           {
            "colorbar": {
             "outlinewidth": 0,
             "ticks": ""
            },
            "colorscale": [
             [
              0,
              "#0d0887"
             ],
             [
              0.1111111111111111,
              "#46039f"
             ],
             [
              0.2222222222222222,
              "#7201a8"
             ],
             [
              0.3333333333333333,
              "#9c179e"
             ],
             [
              0.4444444444444444,
              "#bd3786"
             ],
             [
              0.5555555555555556,
              "#d8576b"
             ],
             [
              0.6666666666666666,
              "#ed7953"
             ],
             [
              0.7777777777777778,
              "#fb9f3a"
             ],
             [
              0.8888888888888888,
              "#fdca26"
             ],
             [
              1,
              "#f0f921"
             ]
            ],
            "type": "histogram2dcontour"
           }
          ],
          "mesh3d": [
           {
            "colorbar": {
             "outlinewidth": 0,
             "ticks": ""
            },
            "type": "mesh3d"
           }
          ],
          "parcoords": [
           {
            "line": {
             "colorbar": {
              "outlinewidth": 0,
              "ticks": ""
             }
            },
            "type": "parcoords"
           }
          ],
          "pie": [
           {
            "automargin": true,
            "type": "pie"
           }
          ],
          "scatter": [
           {
            "fillpattern": {
             "fillmode": "overlay",
             "size": 10,
             "solidity": 0.2
            },
            "type": "scatter"
           }
          ],
          "scatter3d": [
           {
            "line": {
             "colorbar": {
              "outlinewidth": 0,
              "ticks": ""
             }
            },
            "marker": {
             "colorbar": {
              "outlinewidth": 0,
              "ticks": ""
             }
            },
            "type": "scatter3d"
           }
          ],
          "scattercarpet": [
           {
            "marker": {
             "colorbar": {
              "outlinewidth": 0,
              "ticks": ""
             }
            },
            "type": "scattercarpet"
           }
          ],
          "scattergeo": [
           {
            "marker": {
             "colorbar": {
              "outlinewidth": 0,
              "ticks": ""
             }
            },
            "type": "scattergeo"
           }
          ],
          "scattergl": [
           {
            "marker": {
             "colorbar": {
              "outlinewidth": 0,
              "ticks": ""
             }
            },
            "type": "scattergl"
           }
          ],
          "scattermapbox": [
           {
            "marker": {
             "colorbar": {
              "outlinewidth": 0,
              "ticks": ""
             }
            },
            "type": "scattermapbox"
           }
          ],
          "scatterpolar": [
           {
            "marker": {
             "colorbar": {
              "outlinewidth": 0,
              "ticks": ""
             }
            },
            "type": "scatterpolar"
           }
          ],
          "scatterpolargl": [
           {
            "marker": {
             "colorbar": {
              "outlinewidth": 0,
              "ticks": ""
             }
            },
            "type": "scatterpolargl"
           }
          ],
          "scatterternary": [
           {
            "marker": {
             "colorbar": {
              "outlinewidth": 0,
              "ticks": ""
             }
            },
            "type": "scatterternary"
           }
          ],
          "surface": [
           {
            "colorbar": {
             "outlinewidth": 0,
             "ticks": ""
            },
            "colorscale": [
             [
              0,
              "#0d0887"
             ],
             [
              0.1111111111111111,
              "#46039f"
             ],
             [
              0.2222222222222222,
              "#7201a8"
             ],
             [
              0.3333333333333333,
              "#9c179e"
             ],
             [
              0.4444444444444444,
              "#bd3786"
             ],
             [
              0.5555555555555556,
              "#d8576b"
             ],
             [
              0.6666666666666666,
              "#ed7953"
             ],
             [
              0.7777777777777778,
              "#fb9f3a"
             ],
             [
              0.8888888888888888,
              "#fdca26"
             ],
             [
              1,
              "#f0f921"
             ]
            ],
            "type": "surface"
           }
          ],
          "table": [
           {
            "cells": {
             "fill": {
              "color": "#EBF0F8"
             },
             "line": {
              "color": "white"
             }
            },
            "header": {
             "fill": {
              "color": "#C8D4E3"
             },
             "line": {
              "color": "white"
             }
            },
            "type": "table"
           }
          ]
         },
         "layout": {
          "annotationdefaults": {
           "arrowcolor": "#2a3f5f",
           "arrowhead": 0,
           "arrowwidth": 1
          },
          "autotypenumbers": "strict",
          "coloraxis": {
           "colorbar": {
            "outlinewidth": 0,
            "ticks": ""
           }
          },
          "colorscale": {
           "diverging": [
            [
             0,
             "#8e0152"
            ],
            [
             0.1,
             "#c51b7d"
            ],
            [
             0.2,
             "#de77ae"
            ],
            [
             0.3,
             "#f1b6da"
            ],
            [
             0.4,
             "#fde0ef"
            ],
            [
             0.5,
             "#f7f7f7"
            ],
            [
             0.6,
             "#e6f5d0"
            ],
            [
             0.7,
             "#b8e186"
            ],
            [
             0.8,
             "#7fbc41"
            ],
            [
             0.9,
             "#4d9221"
            ],
            [
             1,
             "#276419"
            ]
           ],
           "sequential": [
            [
             0,
             "#0d0887"
            ],
            [
             0.1111111111111111,
             "#46039f"
            ],
            [
             0.2222222222222222,
             "#7201a8"
            ],
            [
             0.3333333333333333,
             "#9c179e"
            ],
            [
             0.4444444444444444,
             "#bd3786"
            ],
            [
             0.5555555555555556,
             "#d8576b"
            ],
            [
             0.6666666666666666,
             "#ed7953"
            ],
            [
             0.7777777777777778,
             "#fb9f3a"
            ],
            [
             0.8888888888888888,
             "#fdca26"
            ],
            [
             1,
             "#f0f921"
            ]
           ],
           "sequentialminus": [
            [
             0,
             "#0d0887"
            ],
            [
             0.1111111111111111,
             "#46039f"
            ],
            [
             0.2222222222222222,
             "#7201a8"
            ],
            [
             0.3333333333333333,
             "#9c179e"
            ],
            [
             0.4444444444444444,
             "#bd3786"
            ],
            [
             0.5555555555555556,
             "#d8576b"
            ],
            [
             0.6666666666666666,
             "#ed7953"
            ],
            [
             0.7777777777777778,
             "#fb9f3a"
            ],
            [
             0.8888888888888888,
             "#fdca26"
            ],
            [
             1,
             "#f0f921"
            ]
           ]
          },
          "colorway": [
           "#636efa",
           "#EF553B",
           "#00cc96",
           "#ab63fa",
           "#FFA15A",
           "#19d3f3",
           "#FF6692",
           "#B6E880",
           "#FF97FF",
           "#FECB52"
          ],
          "font": {
           "color": "#2a3f5f"
          },
          "geo": {
           "bgcolor": "white",
           "lakecolor": "white",
           "landcolor": "#E5ECF6",
           "showlakes": true,
           "showland": true,
           "subunitcolor": "white"
          },
          "hoverlabel": {
           "align": "left"
          },
          "hovermode": "closest",
          "mapbox": {
           "style": "light"
          },
          "paper_bgcolor": "white",
          "plot_bgcolor": "#E5ECF6",
          "polar": {
           "angularaxis": {
            "gridcolor": "white",
            "linecolor": "white",
            "ticks": ""
           },
           "bgcolor": "#E5ECF6",
           "radialaxis": {
            "gridcolor": "white",
            "linecolor": "white",
            "ticks": ""
           }
          },
          "scene": {
           "xaxis": {
            "backgroundcolor": "#E5ECF6",
            "gridcolor": "white",
            "gridwidth": 2,
            "linecolor": "white",
            "showbackground": true,
            "ticks": "",
            "zerolinecolor": "white"
           },
           "yaxis": {
            "backgroundcolor": "#E5ECF6",
            "gridcolor": "white",
            "gridwidth": 2,
            "linecolor": "white",
            "showbackground": true,
            "ticks": "",
            "zerolinecolor": "white"
           },
           "zaxis": {
            "backgroundcolor": "#E5ECF6",
            "gridcolor": "white",
            "gridwidth": 2,
            "linecolor": "white",
            "showbackground": true,
            "ticks": "",
            "zerolinecolor": "white"
           }
          },
          "shapedefaults": {
           "line": {
            "color": "#2a3f5f"
           }
          },
          "ternary": {
           "aaxis": {
            "gridcolor": "white",
            "linecolor": "white",
            "ticks": ""
           },
           "baxis": {
            "gridcolor": "white",
            "linecolor": "white",
            "ticks": ""
           },
           "bgcolor": "#E5ECF6",
           "caxis": {
            "gridcolor": "white",
            "linecolor": "white",
            "ticks": ""
           }
          },
          "title": {
           "x": 0.05
          },
          "xaxis": {
           "automargin": true,
           "gridcolor": "white",
           "linecolor": "white",
           "ticks": "",
           "title": {
            "standoff": 15
           },
           "zerolinecolor": "white",
           "zerolinewidth": 2
          },
          "yaxis": {
           "automargin": true,
           "gridcolor": "white",
           "linecolor": "white",
           "ticks": "",
           "title": {
            "standoff": 15
           },
           "zerolinecolor": "white",
           "zerolinewidth": 2
          }
         }
        },
        "title": {
         "text": "Cantidad de juegos que han salido en Japón, filtrado por plataformas"
        }
       }
      }
     },
     "metadata": {},
     "output_type": "display_data"
    },
    {
     "data": {
      "application/vnd.plotly.v1+json": {
       "config": {
        "linkText": "Export to plot.ly",
        "plotlyServerURL": "https://plot.ly",
        "showLink": false
       },
       "data": [
        {
         "marker": {
          "color": "rgba(255,174,255,0.5)",
          "line": {
           "color": "rgb(0,0,0)",
           "width": 1.5
          }
         },
         "name": "playstation",
         "type": "bar",
         "x": [
          "2013",
          "2014",
          "2015",
          "2016",
          "2017",
          "2018",
          "2019",
          "2020",
          "2021"
         ],
         "y": [
          16,
          75,
          120,
          200,
          207,
          151,
          212,
          57,
          1
         ]
        },
        {
         "marker": {
          "color": "rgba(255, 255, 128, 0.5)",
          "line": {
           "color": "rgb(0,0,0)",
           "width": 1.5
          }
         },
         "name": "xbox",
         "type": "bar",
         "x": [
          "2013",
          "2014",
          "2015",
          "2016",
          "2017",
          "2018",
          "2019",
          "2020"
         ],
         "y": [
          24,
          112,
          224,
          374,
          415,
          465,
          530,
          30
         ]
        },
        {
         "marker": {
          "color": "skyblue",
          "line": {
           "color": "rgb(0,0,0)",
           "width": 1.5
          }
         },
         "name": "switch",
         "type": "bar",
         "x": [
          "2017",
          "2018",
          "2019",
          "2020",
          "2021"
         ],
         "y": [
          116,
          320,
          416,
          82,
          3
         ]
        }
       ],
       "layout": {
        "barmode": "group",
        "template": {
         "data": {
          "bar": [
           {
            "error_x": {
             "color": "#2a3f5f"
            },
            "error_y": {
             "color": "#2a3f5f"
            },
            "marker": {
             "line": {
              "color": "#E5ECF6",
              "width": 0.5
             },
             "pattern": {
              "fillmode": "overlay",
              "size": 10,
              "solidity": 0.2
             }
            },
            "type": "bar"
           }
          ],
          "barpolar": [
           {
            "marker": {
             "line": {
              "color": "#E5ECF6",
              "width": 0.5
             },
             "pattern": {
              "fillmode": "overlay",
              "size": 10,
              "solidity": 0.2
             }
            },
            "type": "barpolar"
           }
          ],
          "carpet": [
           {
            "aaxis": {
             "endlinecolor": "#2a3f5f",
             "gridcolor": "white",
             "linecolor": "white",
             "minorgridcolor": "white",
             "startlinecolor": "#2a3f5f"
            },
            "baxis": {
             "endlinecolor": "#2a3f5f",
             "gridcolor": "white",
             "linecolor": "white",
             "minorgridcolor": "white",
             "startlinecolor": "#2a3f5f"
            },
            "type": "carpet"
           }
          ],
          "choropleth": [
           {
            "colorbar": {
             "outlinewidth": 0,
             "ticks": ""
            },
            "type": "choropleth"
           }
          ],
          "contour": [
           {
            "colorbar": {
             "outlinewidth": 0,
             "ticks": ""
            },
            "colorscale": [
             [
              0,
              "#0d0887"
             ],
             [
              0.1111111111111111,
              "#46039f"
             ],
             [
              0.2222222222222222,
              "#7201a8"
             ],
             [
              0.3333333333333333,
              "#9c179e"
             ],
             [
              0.4444444444444444,
              "#bd3786"
             ],
             [
              0.5555555555555556,
              "#d8576b"
             ],
             [
              0.6666666666666666,
              "#ed7953"
             ],
             [
              0.7777777777777778,
              "#fb9f3a"
             ],
             [
              0.8888888888888888,
              "#fdca26"
             ],
             [
              1,
              "#f0f921"
             ]
            ],
            "type": "contour"
           }
          ],
          "contourcarpet": [
           {
            "colorbar": {
             "outlinewidth": 0,
             "ticks": ""
            },
            "type": "contourcarpet"
           }
          ],
          "heatmap": [
           {
            "colorbar": {
             "outlinewidth": 0,
             "ticks": ""
            },
            "colorscale": [
             [
              0,
              "#0d0887"
             ],
             [
              0.1111111111111111,
              "#46039f"
             ],
             [
              0.2222222222222222,
              "#7201a8"
             ],
             [
              0.3333333333333333,
              "#9c179e"
             ],
             [
              0.4444444444444444,
              "#bd3786"
             ],
             [
              0.5555555555555556,
              "#d8576b"
             ],
             [
              0.6666666666666666,
              "#ed7953"
             ],
             [
              0.7777777777777778,
              "#fb9f3a"
             ],
             [
              0.8888888888888888,
              "#fdca26"
             ],
             [
              1,
              "#f0f921"
             ]
            ],
            "type": "heatmap"
           }
          ],
          "heatmapgl": [
           {
            "colorbar": {
             "outlinewidth": 0,
             "ticks": ""
            },
            "colorscale": [
             [
              0,
              "#0d0887"
             ],
             [
              0.1111111111111111,
              "#46039f"
             ],
             [
              0.2222222222222222,
              "#7201a8"
             ],
             [
              0.3333333333333333,
              "#9c179e"
             ],
             [
              0.4444444444444444,
              "#bd3786"
             ],
             [
              0.5555555555555556,
              "#d8576b"
             ],
             [
              0.6666666666666666,
              "#ed7953"
             ],
             [
              0.7777777777777778,
              "#fb9f3a"
             ],
             [
              0.8888888888888888,
              "#fdca26"
             ],
             [
              1,
              "#f0f921"
             ]
            ],
            "type": "heatmapgl"
           }
          ],
          "histogram": [
           {
            "marker": {
             "pattern": {
              "fillmode": "overlay",
              "size": 10,
              "solidity": 0.2
             }
            },
            "type": "histogram"
           }
          ],
          "histogram2d": [
           {
            "colorbar": {
             "outlinewidth": 0,
             "ticks": ""
            },
            "colorscale": [
             [
              0,
              "#0d0887"
             ],
             [
              0.1111111111111111,
              "#46039f"
             ],
             [
              0.2222222222222222,
              "#7201a8"
             ],
             [
              0.3333333333333333,
              "#9c179e"
             ],
             [
              0.4444444444444444,
              "#bd3786"
             ],
             [
              0.5555555555555556,
              "#d8576b"
             ],
             [
              0.6666666666666666,
              "#ed7953"
             ],
             [
              0.7777777777777778,
              "#fb9f3a"
             ],
             [
              0.8888888888888888,
              "#fdca26"
             ],
             [
              1,
              "#f0f921"
             ]
            ],
            "type": "histogram2d"
           }
          ],
          "histogram2dcontour": [
           {
            "colorbar": {
             "outlinewidth": 0,
             "ticks": ""
            },
            "colorscale": [
             [
              0,
              "#0d0887"
             ],
             [
              0.1111111111111111,
              "#46039f"
             ],
             [
              0.2222222222222222,
              "#7201a8"
             ],
             [
              0.3333333333333333,
              "#9c179e"
             ],
             [
              0.4444444444444444,
              "#bd3786"
             ],
             [
              0.5555555555555556,
              "#d8576b"
             ],
             [
              0.6666666666666666,
              "#ed7953"
             ],
             [
              0.7777777777777778,
              "#fb9f3a"
             ],
             [
              0.8888888888888888,
              "#fdca26"
             ],
             [
              1,
              "#f0f921"
             ]
            ],
            "type": "histogram2dcontour"
           }
          ],
          "mesh3d": [
           {
            "colorbar": {
             "outlinewidth": 0,
             "ticks": ""
            },
            "type": "mesh3d"
           }
          ],
          "parcoords": [
           {
            "line": {
             "colorbar": {
              "outlinewidth": 0,
              "ticks": ""
             }
            },
            "type": "parcoords"
           }
          ],
          "pie": [
           {
            "automargin": true,
            "type": "pie"
           }
          ],
          "scatter": [
           {
            "fillpattern": {
             "fillmode": "overlay",
             "size": 10,
             "solidity": 0.2
            },
            "type": "scatter"
           }
          ],
          "scatter3d": [
           {
            "line": {
             "colorbar": {
              "outlinewidth": 0,
              "ticks": ""
             }
            },
            "marker": {
             "colorbar": {
              "outlinewidth": 0,
              "ticks": ""
             }
            },
            "type": "scatter3d"
           }
          ],
          "scattercarpet": [
           {
            "marker": {
             "colorbar": {
              "outlinewidth": 0,
              "ticks": ""
             }
            },
            "type": "scattercarpet"
           }
          ],
          "scattergeo": [
           {
            "marker": {
             "colorbar": {
              "outlinewidth": 0,
              "ticks": ""
             }
            },
            "type": "scattergeo"
           }
          ],
          "scattergl": [
           {
            "marker": {
             "colorbar": {
              "outlinewidth": 0,
              "ticks": ""
             }
            },
            "type": "scattergl"
           }
          ],
          "scattermapbox": [
           {
            "marker": {
             "colorbar": {
              "outlinewidth": 0,
              "ticks": ""
             }
            },
            "type": "scattermapbox"
           }
          ],
          "scatterpolar": [
           {
            "marker": {
             "colorbar": {
              "outlinewidth": 0,
              "ticks": ""
             }
            },
            "type": "scatterpolar"
           }
          ],
          "scatterpolargl": [
           {
            "marker": {
             "colorbar": {
              "outlinewidth": 0,
              "ticks": ""
             }
            },
            "type": "scatterpolargl"
           }
          ],
          "scatterternary": [
           {
            "marker": {
             "colorbar": {
              "outlinewidth": 0,
              "ticks": ""
             }
            },
            "type": "scatterternary"
           }
          ],
          "surface": [
           {
            "colorbar": {
             "outlinewidth": 0,
             "ticks": ""
            },
            "colorscale": [
             [
              0,
              "#0d0887"
             ],
             [
              0.1111111111111111,
              "#46039f"
             ],
             [
              0.2222222222222222,
              "#7201a8"
             ],
             [
              0.3333333333333333,
              "#9c179e"
             ],
             [
              0.4444444444444444,
              "#bd3786"
             ],
             [
              0.5555555555555556,
              "#d8576b"
             ],
             [
              0.6666666666666666,
              "#ed7953"
             ],
             [
              0.7777777777777778,
              "#fb9f3a"
             ],
             [
              0.8888888888888888,
              "#fdca26"
             ],
             [
              1,
              "#f0f921"
             ]
            ],
            "type": "surface"
           }
          ],
          "table": [
           {
            "cells": {
             "fill": {
              "color": "#EBF0F8"
             },
             "line": {
              "color": "white"
             }
            },
            "header": {
             "fill": {
              "color": "#C8D4E3"
             },
             "line": {
              "color": "white"
             }
            },
            "type": "table"
           }
          ]
         },
         "layout": {
          "annotationdefaults": {
           "arrowcolor": "#2a3f5f",
           "arrowhead": 0,
           "arrowwidth": 1
          },
          "autotypenumbers": "strict",
          "coloraxis": {
           "colorbar": {
            "outlinewidth": 0,
            "ticks": ""
           }
          },
          "colorscale": {
           "diverging": [
            [
             0,
             "#8e0152"
            ],
            [
             0.1,
             "#c51b7d"
            ],
            [
             0.2,
             "#de77ae"
            ],
            [
             0.3,
             "#f1b6da"
            ],
            [
             0.4,
             "#fde0ef"
            ],
            [
             0.5,
             "#f7f7f7"
            ],
            [
             0.6,
             "#e6f5d0"
            ],
            [
             0.7,
             "#b8e186"
            ],
            [
             0.8,
             "#7fbc41"
            ],
            [
             0.9,
             "#4d9221"
            ],
            [
             1,
             "#276419"
            ]
           ],
           "sequential": [
            [
             0,
             "#0d0887"
            ],
            [
             0.1111111111111111,
             "#46039f"
            ],
            [
             0.2222222222222222,
             "#7201a8"
            ],
            [
             0.3333333333333333,
             "#9c179e"
            ],
            [
             0.4444444444444444,
             "#bd3786"
            ],
            [
             0.5555555555555556,
             "#d8576b"
            ],
            [
             0.6666666666666666,
             "#ed7953"
            ],
            [
             0.7777777777777778,
             "#fb9f3a"
            ],
            [
             0.8888888888888888,
             "#fdca26"
            ],
            [
             1,
             "#f0f921"
            ]
           ],
           "sequentialminus": [
            [
             0,
             "#0d0887"
            ],
            [
             0.1111111111111111,
             "#46039f"
            ],
            [
             0.2222222222222222,
             "#7201a8"
            ],
            [
             0.3333333333333333,
             "#9c179e"
            ],
            [
             0.4444444444444444,
             "#bd3786"
            ],
            [
             0.5555555555555556,
             "#d8576b"
            ],
            [
             0.6666666666666666,
             "#ed7953"
            ],
            [
             0.7777777777777778,
             "#fb9f3a"
            ],
            [
             0.8888888888888888,
             "#fdca26"
            ],
            [
             1,
             "#f0f921"
            ]
           ]
          },
          "colorway": [
           "#636efa",
           "#EF553B",
           "#00cc96",
           "#ab63fa",
           "#FFA15A",
           "#19d3f3",
           "#FF6692",
           "#B6E880",
           "#FF97FF",
           "#FECB52"
          ],
          "font": {
           "color": "#2a3f5f"
          },
          "geo": {
           "bgcolor": "white",
           "lakecolor": "white",
           "landcolor": "#E5ECF6",
           "showlakes": true,
           "showland": true,
           "subunitcolor": "white"
          },
          "hoverlabel": {
           "align": "left"
          },
          "hovermode": "closest",
          "mapbox": {
           "style": "light"
          },
          "paper_bgcolor": "white",
          "plot_bgcolor": "#E5ECF6",
          "polar": {
           "angularaxis": {
            "gridcolor": "white",
            "linecolor": "white",
            "ticks": ""
           },
           "bgcolor": "#E5ECF6",
           "radialaxis": {
            "gridcolor": "white",
            "linecolor": "white",
            "ticks": ""
           }
          },
          "scene": {
           "xaxis": {
            "backgroundcolor": "#E5ECF6",
            "gridcolor": "white",
            "gridwidth": 2,
            "linecolor": "white",
            "showbackground": true,
            "ticks": "",
            "zerolinecolor": "white"
           },
           "yaxis": {
            "backgroundcolor": "#E5ECF6",
            "gridcolor": "white",
            "gridwidth": 2,
            "linecolor": "white",
            "showbackground": true,
            "ticks": "",
            "zerolinecolor": "white"
           },
           "zaxis": {
            "backgroundcolor": "#E5ECF6",
            "gridcolor": "white",
            "gridwidth": 2,
            "linecolor": "white",
            "showbackground": true,
            "ticks": "",
            "zerolinecolor": "white"
           }
          },
          "shapedefaults": {
           "line": {
            "color": "#2a3f5f"
           }
          },
          "ternary": {
           "aaxis": {
            "gridcolor": "white",
            "linecolor": "white",
            "ticks": ""
           },
           "baxis": {
            "gridcolor": "white",
            "linecolor": "white",
            "ticks": ""
           },
           "bgcolor": "#E5ECF6",
           "caxis": {
            "gridcolor": "white",
            "linecolor": "white",
            "ticks": ""
           }
          },
          "title": {
           "x": 0.05
          },
          "xaxis": {
           "automargin": true,
           "gridcolor": "white",
           "linecolor": "white",
           "ticks": "",
           "title": {
            "standoff": 15
           },
           "zerolinecolor": "white",
           "zerolinewidth": 2
          },
          "yaxis": {
           "automargin": true,
           "gridcolor": "white",
           "linecolor": "white",
           "ticks": "",
           "title": {
            "standoff": 15
           },
           "zerolinecolor": "white",
           "zerolinewidth": 2
          }
         }
        },
        "title": {
         "text": "Cantidad de juegos que han salido en Australia, filtrado por plataformas"
        }
       }
      }
     },
     "metadata": {},
     "output_type": "display_data"
    },
    {
     "data": {
      "application/vnd.plotly.v1+json": {
       "config": {
        "linkText": "Export to plot.ly",
        "plotlyServerURL": "https://plot.ly",
        "showLink": false
       },
       "data": [
        {
         "marker": {
          "color": "rgba(255,174,255,0.5)",
          "line": {
           "color": "rgb(0,0,0)",
           "width": 1.5
          }
         },
         "name": "playstation",
         "type": "bar",
         "x": [
          "2013",
          "2014",
          "2015",
          "2016",
          "2017",
          "2018",
          "2019",
          "2020",
          "2021"
         ],
         "y": [
          17,
          68,
          121,
          197,
          208,
          149,
          207,
          57,
          1
         ]
        },
        {
         "marker": {
          "color": "rgba(255, 255, 128, 0.5)",
          "line": {
           "color": "rgb(0,0,0)",
           "width": 1.5
          }
         },
         "name": "xbox",
         "type": "bar",
         "x": [
          "2013",
          "2014",
          "2015",
          "2016",
          "2017",
          "2018",
          "2019",
          "2020"
         ],
         "y": [
          24,
          109,
          218,
          376,
          415,
          465,
          527,
          30
         ]
        },
        {
         "marker": {
          "color": "skyblue",
          "line": {
           "color": "rgb(0,0,0)",
           "width": 1.5
          }
         },
         "name": "switch",
         "type": "bar",
         "x": [
          "2017",
          "2018",
          "2019",
          "2020",
          "2021"
         ],
         "y": [
          116,
          320,
          417,
          84,
          3
         ]
        }
       ],
       "layout": {
        "barmode": "group",
        "template": {
         "data": {
          "bar": [
           {
            "error_x": {
             "color": "#2a3f5f"
            },
            "error_y": {
             "color": "#2a3f5f"
            },
            "marker": {
             "line": {
              "color": "#E5ECF6",
              "width": 0.5
             },
             "pattern": {
              "fillmode": "overlay",
              "size": 10,
              "solidity": 0.2
             }
            },
            "type": "bar"
           }
          ],
          "barpolar": [
           {
            "marker": {
             "line": {
              "color": "#E5ECF6",
              "width": 0.5
             },
             "pattern": {
              "fillmode": "overlay",
              "size": 10,
              "solidity": 0.2
             }
            },
            "type": "barpolar"
           }
          ],
          "carpet": [
           {
            "aaxis": {
             "endlinecolor": "#2a3f5f",
             "gridcolor": "white",
             "linecolor": "white",
             "minorgridcolor": "white",
             "startlinecolor": "#2a3f5f"
            },
            "baxis": {
             "endlinecolor": "#2a3f5f",
             "gridcolor": "white",
             "linecolor": "white",
             "minorgridcolor": "white",
             "startlinecolor": "#2a3f5f"
            },
            "type": "carpet"
           }
          ],
          "choropleth": [
           {
            "colorbar": {
             "outlinewidth": 0,
             "ticks": ""
            },
            "type": "choropleth"
           }
          ],
          "contour": [
           {
            "colorbar": {
             "outlinewidth": 0,
             "ticks": ""
            },
            "colorscale": [
             [
              0,
              "#0d0887"
             ],
             [
              0.1111111111111111,
              "#46039f"
             ],
             [
              0.2222222222222222,
              "#7201a8"
             ],
             [
              0.3333333333333333,
              "#9c179e"
             ],
             [
              0.4444444444444444,
              "#bd3786"
             ],
             [
              0.5555555555555556,
              "#d8576b"
             ],
             [
              0.6666666666666666,
              "#ed7953"
             ],
             [
              0.7777777777777778,
              "#fb9f3a"
             ],
             [
              0.8888888888888888,
              "#fdca26"
             ],
             [
              1,
              "#f0f921"
             ]
            ],
            "type": "contour"
           }
          ],
          "contourcarpet": [
           {
            "colorbar": {
             "outlinewidth": 0,
             "ticks": ""
            },
            "type": "contourcarpet"
           }
          ],
          "heatmap": [
           {
            "colorbar": {
             "outlinewidth": 0,
             "ticks": ""
            },
            "colorscale": [
             [
              0,
              "#0d0887"
             ],
             [
              0.1111111111111111,
              "#46039f"
             ],
             [
              0.2222222222222222,
              "#7201a8"
             ],
             [
              0.3333333333333333,
              "#9c179e"
             ],
             [
              0.4444444444444444,
              "#bd3786"
             ],
             [
              0.5555555555555556,
              "#d8576b"
             ],
             [
              0.6666666666666666,
              "#ed7953"
             ],
             [
              0.7777777777777778,
              "#fb9f3a"
             ],
             [
              0.8888888888888888,
              "#fdca26"
             ],
             [
              1,
              "#f0f921"
             ]
            ],
            "type": "heatmap"
           }
          ],
          "heatmapgl": [
           {
            "colorbar": {
             "outlinewidth": 0,
             "ticks": ""
            },
            "colorscale": [
             [
              0,
              "#0d0887"
             ],
             [
              0.1111111111111111,
              "#46039f"
             ],
             [
              0.2222222222222222,
              "#7201a8"
             ],
             [
              0.3333333333333333,
              "#9c179e"
             ],
             [
              0.4444444444444444,
              "#bd3786"
             ],
             [
              0.5555555555555556,
              "#d8576b"
             ],
             [
              0.6666666666666666,
              "#ed7953"
             ],
             [
              0.7777777777777778,
              "#fb9f3a"
             ],
             [
              0.8888888888888888,
              "#fdca26"
             ],
             [
              1,
              "#f0f921"
             ]
            ],
            "type": "heatmapgl"
           }
          ],
          "histogram": [
           {
            "marker": {
             "pattern": {
              "fillmode": "overlay",
              "size": 10,
              "solidity": 0.2
             }
            },
            "type": "histogram"
           }
          ],
          "histogram2d": [
           {
            "colorbar": {
             "outlinewidth": 0,
             "ticks": ""
            },
            "colorscale": [
             [
              0,
              "#0d0887"
             ],
             [
              0.1111111111111111,
              "#46039f"
             ],
             [
              0.2222222222222222,
              "#7201a8"
             ],
             [
              0.3333333333333333,
              "#9c179e"
             ],
             [
              0.4444444444444444,
              "#bd3786"
             ],
             [
              0.5555555555555556,
              "#d8576b"
             ],
             [
              0.6666666666666666,
              "#ed7953"
             ],
             [
              0.7777777777777778,
              "#fb9f3a"
             ],
             [
              0.8888888888888888,
              "#fdca26"
             ],
             [
              1,
              "#f0f921"
             ]
            ],
            "type": "histogram2d"
           }
          ],
          "histogram2dcontour": [
           {
            "colorbar": {
             "outlinewidth": 0,
             "ticks": ""
            },
            "colorscale": [
             [
              0,
              "#0d0887"
             ],
             [
              0.1111111111111111,
              "#46039f"
             ],
             [
              0.2222222222222222,
              "#7201a8"
             ],
             [
              0.3333333333333333,
              "#9c179e"
             ],
             [
              0.4444444444444444,
              "#bd3786"
             ],
             [
              0.5555555555555556,
              "#d8576b"
             ],
             [
              0.6666666666666666,
              "#ed7953"
             ],
             [
              0.7777777777777778,
              "#fb9f3a"
             ],
             [
              0.8888888888888888,
              "#fdca26"
             ],
             [
              1,
              "#f0f921"
             ]
            ],
            "type": "histogram2dcontour"
           }
          ],
          "mesh3d": [
           {
            "colorbar": {
             "outlinewidth": 0,
             "ticks": ""
            },
            "type": "mesh3d"
           }
          ],
          "parcoords": [
           {
            "line": {
             "colorbar": {
              "outlinewidth": 0,
              "ticks": ""
             }
            },
            "type": "parcoords"
           }
          ],
          "pie": [
           {
            "automargin": true,
            "type": "pie"
           }
          ],
          "scatter": [
           {
            "fillpattern": {
             "fillmode": "overlay",
             "size": 10,
             "solidity": 0.2
            },
            "type": "scatter"
           }
          ],
          "scatter3d": [
           {
            "line": {
             "colorbar": {
              "outlinewidth": 0,
              "ticks": ""
             }
            },
            "marker": {
             "colorbar": {
              "outlinewidth": 0,
              "ticks": ""
             }
            },
            "type": "scatter3d"
           }
          ],
          "scattercarpet": [
           {
            "marker": {
             "colorbar": {
              "outlinewidth": 0,
              "ticks": ""
             }
            },
            "type": "scattercarpet"
           }
          ],
          "scattergeo": [
           {
            "marker": {
             "colorbar": {
              "outlinewidth": 0,
              "ticks": ""
             }
            },
            "type": "scattergeo"
           }
          ],
          "scattergl": [
           {
            "marker": {
             "colorbar": {
              "outlinewidth": 0,
              "ticks": ""
             }
            },
            "type": "scattergl"
           }
          ],
          "scattermapbox": [
           {
            "marker": {
             "colorbar": {
              "outlinewidth": 0,
              "ticks": ""
             }
            },
            "type": "scattermapbox"
           }
          ],
          "scatterpolar": [
           {
            "marker": {
             "colorbar": {
              "outlinewidth": 0,
              "ticks": ""
             }
            },
            "type": "scatterpolar"
           }
          ],
          "scatterpolargl": [
           {
            "marker": {
             "colorbar": {
              "outlinewidth": 0,
              "ticks": ""
             }
            },
            "type": "scatterpolargl"
           }
          ],
          "scatterternary": [
           {
            "marker": {
             "colorbar": {
              "outlinewidth": 0,
              "ticks": ""
             }
            },
            "type": "scatterternary"
           }
          ],
          "surface": [
           {
            "colorbar": {
             "outlinewidth": 0,
             "ticks": ""
            },
            "colorscale": [
             [
              0,
              "#0d0887"
             ],
             [
              0.1111111111111111,
              "#46039f"
             ],
             [
              0.2222222222222222,
              "#7201a8"
             ],
             [
              0.3333333333333333,
              "#9c179e"
             ],
             [
              0.4444444444444444,
              "#bd3786"
             ],
             [
              0.5555555555555556,
              "#d8576b"
             ],
             [
              0.6666666666666666,
              "#ed7953"
             ],
             [
              0.7777777777777778,
              "#fb9f3a"
             ],
             [
              0.8888888888888888,
              "#fdca26"
             ],
             [
              1,
              "#f0f921"
             ]
            ],
            "type": "surface"
           }
          ],
          "table": [
           {
            "cells": {
             "fill": {
              "color": "#EBF0F8"
             },
             "line": {
              "color": "white"
             }
            },
            "header": {
             "fill": {
              "color": "#C8D4E3"
             },
             "line": {
              "color": "white"
             }
            },
            "type": "table"
           }
          ]
         },
         "layout": {
          "annotationdefaults": {
           "arrowcolor": "#2a3f5f",
           "arrowhead": 0,
           "arrowwidth": 1
          },
          "autotypenumbers": "strict",
          "coloraxis": {
           "colorbar": {
            "outlinewidth": 0,
            "ticks": ""
           }
          },
          "colorscale": {
           "diverging": [
            [
             0,
             "#8e0152"
            ],
            [
             0.1,
             "#c51b7d"
            ],
            [
             0.2,
             "#de77ae"
            ],
            [
             0.3,
             "#f1b6da"
            ],
            [
             0.4,
             "#fde0ef"
            ],
            [
             0.5,
             "#f7f7f7"
            ],
            [
             0.6,
             "#e6f5d0"
            ],
            [
             0.7,
             "#b8e186"
            ],
            [
             0.8,
             "#7fbc41"
            ],
            [
             0.9,
             "#4d9221"
            ],
            [
             1,
             "#276419"
            ]
           ],
           "sequential": [
            [
             0,
             "#0d0887"
            ],
            [
             0.1111111111111111,
             "#46039f"
            ],
            [
             0.2222222222222222,
             "#7201a8"
            ],
            [
             0.3333333333333333,
             "#9c179e"
            ],
            [
             0.4444444444444444,
             "#bd3786"
            ],
            [
             0.5555555555555556,
             "#d8576b"
            ],
            [
             0.6666666666666666,
             "#ed7953"
            ],
            [
             0.7777777777777778,
             "#fb9f3a"
            ],
            [
             0.8888888888888888,
             "#fdca26"
            ],
            [
             1,
             "#f0f921"
            ]
           ],
           "sequentialminus": [
            [
             0,
             "#0d0887"
            ],
            [
             0.1111111111111111,
             "#46039f"
            ],
            [
             0.2222222222222222,
             "#7201a8"
            ],
            [
             0.3333333333333333,
             "#9c179e"
            ],
            [
             0.4444444444444444,
             "#bd3786"
            ],
            [
             0.5555555555555556,
             "#d8576b"
            ],
            [
             0.6666666666666666,
             "#ed7953"
            ],
            [
             0.7777777777777778,
             "#fb9f3a"
            ],
            [
             0.8888888888888888,
             "#fdca26"
            ],
            [
             1,
             "#f0f921"
            ]
           ]
          },
          "colorway": [
           "#636efa",
           "#EF553B",
           "#00cc96",
           "#ab63fa",
           "#FFA15A",
           "#19d3f3",
           "#FF6692",
           "#B6E880",
           "#FF97FF",
           "#FECB52"
          ],
          "font": {
           "color": "#2a3f5f"
          },
          "geo": {
           "bgcolor": "white",
           "lakecolor": "white",
           "landcolor": "#E5ECF6",
           "showlakes": true,
           "showland": true,
           "subunitcolor": "white"
          },
          "hoverlabel": {
           "align": "left"
          },
          "hovermode": "closest",
          "mapbox": {
           "style": "light"
          },
          "paper_bgcolor": "white",
          "plot_bgcolor": "#E5ECF6",
          "polar": {
           "angularaxis": {
            "gridcolor": "white",
            "linecolor": "white",
            "ticks": ""
           },
           "bgcolor": "#E5ECF6",
           "radialaxis": {
            "gridcolor": "white",
            "linecolor": "white",
            "ticks": ""
           }
          },
          "scene": {
           "xaxis": {
            "backgroundcolor": "#E5ECF6",
            "gridcolor": "white",
            "gridwidth": 2,
            "linecolor": "white",
            "showbackground": true,
            "ticks": "",
            "zerolinecolor": "white"
           },
           "yaxis": {
            "backgroundcolor": "#E5ECF6",
            "gridcolor": "white",
            "gridwidth": 2,
            "linecolor": "white",
            "showbackground": true,
            "ticks": "",
            "zerolinecolor": "white"
           },
           "zaxis": {
            "backgroundcolor": "#E5ECF6",
            "gridcolor": "white",
            "gridwidth": 2,
            "linecolor": "white",
            "showbackground": true,
            "ticks": "",
            "zerolinecolor": "white"
           }
          },
          "shapedefaults": {
           "line": {
            "color": "#2a3f5f"
           }
          },
          "ternary": {
           "aaxis": {
            "gridcolor": "white",
            "linecolor": "white",
            "ticks": ""
           },
           "baxis": {
            "gridcolor": "white",
            "linecolor": "white",
            "ticks": ""
           },
           "bgcolor": "#E5ECF6",
           "caxis": {
            "gridcolor": "white",
            "linecolor": "white",
            "ticks": ""
           }
          },
          "title": {
           "x": 0.05
          },
          "xaxis": {
           "automargin": true,
           "gridcolor": "white",
           "linecolor": "white",
           "ticks": "",
           "title": {
            "standoff": 15
           },
           "zerolinecolor": "white",
           "zerolinewidth": 2
          },
          "yaxis": {
           "automargin": true,
           "gridcolor": "white",
           "linecolor": "white",
           "ticks": "",
           "title": {
            "standoff": 15
           },
           "zerolinecolor": "white",
           "zerolinewidth": 2
          }
         }
        },
        "title": {
         "text": "Cantidad de juegos que han salido en Norte América, filtrado por plataformas"
        }
       }
      }
     },
     "metadata": {},
     "output_type": "display_data"
    }
   ],
   "source": [
    "plataforma_year(df)"
   ]
  },
  {
   "cell_type": "code",
   "execution_count": 61,
   "metadata": {},
   "outputs": [],
   "source": [
    "def juegos_genero(df): \n",
    "    df1 = df.copy()\n",
    "    df1[df1.genre=='Sin genero']=np.NaN\n",
    "    df1.dropna(inplace=True)\n",
    "    u=pd.DataFrame(df1.genre.value_counts())\n",
    "    u[u.genre<30]=np.NaN\n",
    "    u.dropna(inplace=True)\n",
    "    lista=[]\n",
    "    for x in df1.genre.unique():\n",
    "        if not (x in u.index):\n",
    "            lista.append(x)\n",
    "    df1[df1.genre.isin(lista)]=np.NaN\n",
    "    df1.dropna(inplace=True)\n",
    "    plt.figure(figsize=(15,10))\n",
    "    sb.countplot(x=df1.genre)\n",
    "    plt.xticks(rotation=-45);"
   ]
  },
  {
   "cell_type": "code",
   "execution_count": 62,
   "metadata": {},
   "outputs": [
    {
     "data": {
      "image/png": "[encoded data removed]",
      "text/plain": [
       "<Figure size 1500x1000 with 1 Axes>"
      ]
     },
     "metadata": {},
     "output_type": "display_data"
    }
   ],
   "source": [
    "juegos_genero(df)"
   ]
  },
  {
   "cell_type": "code",
   "execution_count": 63,
   "metadata": {},
   "outputs": [],
   "source": [
    "def tarta_Comp(df):\n",
    "    \n",
    "    x=pd.DataFrame(df.Comp.value_counts())\n",
    "\n",
    "    fig={'data':[{'values':x.Comp,'labels':x.index,'domain':{'x':[0,0.7]},'name':'','hoverinfo':'label+value','hole':0.5,'type':'pie'}],\n",
    "         'layout':{'title':'Región de Lanzamiento de juegos'}}\n",
    "    iplot(fig)\n"
   ]
  },
  {
   "cell_type": "code",
   "execution_count": 64,
   "metadata": {},
   "outputs": [
    {
     "data": {
      "application/vnd.plotly.v1+json": {
       "config": {
        "linkText": "Export to plot.ly",
        "plotlyServerURL": "https://plot.ly",
        "showLink": false
       },
       "data": [
        {
         "domain": {
          "x": [
           0,
           0.7
          ]
         },
         "hole": 0.5,
         "hoverinfo": "label+value",
         "labels": [
          "NA EU AU",
          "NA EU JP AU",
          "EU AU",
          "JP AU",
          "NA",
          "AU",
          "NA JP",
          "JP",
          "EU JP AU"
         ],
         "name": "",
         "type": "pie",
         "values": [
          1914,
          1376,
          373,
          259,
          193,
          71,
          53,
          35,
          7
         ]
        }
       ],
       "layout": {
        "template": {
         "data": {
          "bar": [
           {
            "error_x": {
             "color": "#2a3f5f"
            },
            "error_y": {
             "color": "#2a3f5f"
            },
            "marker": {
             "line": {
              "color": "#E5ECF6",
              "width": 0.5
             },
             "pattern": {
              "fillmode": "overlay",
              "size": 10,
              "solidity": 0.2
             }
            },
            "type": "bar"
           }
          ],
          "barpolar": [
           {
            "marker": {
             "line": {
              "color": "#E5ECF6",
              "width": 0.5
             },
             "pattern": {
              "fillmode": "overlay",
              "size": 10,
              "solidity": 0.2
             }
            },
            "type": "barpolar"
           }
          ],
          "carpet": [
           {
            "aaxis": {
             "endlinecolor": "#2a3f5f",
             "gridcolor": "white",
             "linecolor": "white",
             "minorgridcolor": "white",
             "startlinecolor": "#2a3f5f"
            },
            "baxis": {
             "endlinecolor": "#2a3f5f",
             "gridcolor": "white",
             "linecolor": "white",
             "minorgridcolor": "white",
             "startlinecolor": "#2a3f5f"
            },
            "type": "carpet"
           }
          ],
          "choropleth": [
           {
            "colorbar": {
             "outlinewidth": 0,
             "ticks": ""
            },
            "type": "choropleth"
           }
          ],
          "contour": [
           {
            "colorbar": {
             "outlinewidth": 0,
             "ticks": ""
            },
            "colorscale": [
             [
              0,
              "#0d0887"
             ],
             [
              0.1111111111111111,
              "#46039f"
             ],
             [
              0.2222222222222222,
              "#7201a8"
             ],
             [
              0.3333333333333333,
              "#9c179e"
             ],
             [
              0.4444444444444444,
              "#bd3786"
             ],
             [
              0.5555555555555556,
              "#d8576b"
             ],
             [
              0.6666666666666666,
              "#ed7953"
             ],
             [
              0.7777777777777778,
              "#fb9f3a"
             ],
             [
              0.8888888888888888,
              "#fdca26"
             ],
             [
              1,
              "#f0f921"
             ]
            ],
            "type": "contour"
           }
          ],
          "contourcarpet": [
           {
            "colorbar": {
             "outlinewidth": 0,
             "ticks": ""
            },
            "type": "contourcarpet"
           }
          ],
          "heatmap": [
           {
            "colorbar": {
             "outlinewidth": 0,
             "ticks": ""
            },
            "colorscale": [
             [
              0,
              "#0d0887"
             ],
             [
              0.1111111111111111,
              "#46039f"
             ],
             [
              0.2222222222222222,
              "#7201a8"
             ],
             [
              0.3333333333333333,
              "#9c179e"
             ],
             [
              0.4444444444444444,
              "#bd3786"
             ],
             [
              0.5555555555555556,
              "#d8576b"
             ],
             [
              0.6666666666666666,
              "#ed7953"
             ],
             [
              0.7777777777777778,
              "#fb9f3a"
             ],
             [
              0.8888888888888888,
              "#fdca26"
             ],
             [
              1,
              "#f0f921"
             ]
            ],
            "type": "heatmap"
           }
          ],
          "heatmapgl": [
           {
            "colorbar": {
             "outlinewidth": 0,
             "ticks": ""
            },
            "colorscale": [
             [
              0,
              "#0d0887"
             ],
             [
              0.1111111111111111,
              "#46039f"
             ],
             [
              0.2222222222222222,
              "#7201a8"
             ],
             [
              0.3333333333333333,
              "#9c179e"
             ],
             [
              0.4444444444444444,
              "#bd3786"
             ],
             [
              0.5555555555555556,
              "#d8576b"
             ],
             [
              0.6666666666666666,
              "#ed7953"
             ],
             [
              0.7777777777777778,
              "#fb9f3a"
             ],
             [
              0.8888888888888888,
              "#fdca26"
             ],
             [
              1,
              "#f0f921"
             ]
            ],
            "type": "heatmapgl"
           }
          ],
          "histogram": [
           {
            "marker": {
             "pattern": {
              "fillmode": "overlay",
              "size": 10,
              "solidity": 0.2
             }
            },
            "type": "histogram"
           }
          ],
          "histogram2d": [
           {
            "colorbar": {
             "outlinewidth": 0,
             "ticks": ""
            },
            "colorscale": [
             [
              0,
              "#0d0887"
             ],
             [
              0.1111111111111111,
              "#46039f"
             ],
             [
              0.2222222222222222,
              "#7201a8"
             ],
             [
              0.3333333333333333,
              "#9c179e"
             ],
             [
              0.4444444444444444,
              "#bd3786"
             ],
             [
              0.5555555555555556,
              "#d8576b"
             ],
             [
              0.6666666666666666,
              "#ed7953"
             ],
             [
              0.7777777777777778,
              "#fb9f3a"
             ],
             [
              0.8888888888888888,
              "#fdca26"
             ],
             [
              1,
              "#f0f921"
             ]
            ],
            "type": "histogram2d"
           }
          ],
          "histogram2dcontour": [
           {
            "colorbar": {
             "outlinewidth": 0,
             "ticks": ""
            },
            "colorscale": [
             [
              0,
              "#0d0887"
             ],
             [
              0.1111111111111111,
              "#46039f"
             ],
             [
              0.2222222222222222,
              "#7201a8"
             ],
             [
              0.3333333333333333,
              "#9c179e"
             ],
             [
              0.4444444444444444,
              "#bd3786"
             ],
             [
              0.5555555555555556,
              "#d8576b"
             ],
             [
              0.6666666666666666,
              "#ed7953"
             ],
             [
              0.7777777777777778,
              "#fb9f3a"
             ],
             [
              0.8888888888888888,
              "#fdca26"
             ],
             [
              1,
              "#f0f921"
             ]
            ],
            "type": "histogram2dcontour"
           }
          ],
          "mesh3d": [
           {
            "colorbar": {
             "outlinewidth": 0,
             "ticks": ""
            },
            "type": "mesh3d"
           }
          ],
          "parcoords": [
           {
            "line": {
             "colorbar": {
              "outlinewidth": 0,
              "ticks": ""
             }
            },
            "type": "parcoords"
           }
          ],
          "pie": [
           {
            "automargin": true,
            "type": "pie"
           }
          ],
          "scatter": [
           {
            "fillpattern": {
             "fillmode": "overlay",
             "size": 10,
             "solidity": 0.2
            },
            "type": "scatter"
           }
          ],
          "scatter3d": [
           {
            "line": {
             "colorbar": {
              "outlinewidth": 0,
              "ticks": ""
             }
            },
            "marker": {
             "colorbar": {
              "outlinewidth": 0,
              "ticks": ""
             }
            },
            "type": "scatter3d"
           }
          ],
          "scattercarpet": [
           {
            "marker": {
             "colorbar": {
              "outlinewidth": 0,
              "ticks": ""
             }
            },
            "type": "scattercarpet"
           }
          ],
          "scattergeo": [
           {
            "marker": {
             "colorbar": {
              "outlinewidth": 0,
              "ticks": ""
             }
            },
            "type": "scattergeo"
           }
          ],
          "scattergl": [
           {
            "marker": {
             "colorbar": {
              "outlinewidth": 0,
              "ticks": ""
             }
            },
            "type": "scattergl"
           }
          ],
          "scattermapbox": [
           {
            "marker": {
             "colorbar": {
              "outlinewidth": 0,
              "ticks": ""
             }
            },
            "type": "scattermapbox"
           }
          ],
          "scatterpolar": [
           {
            "marker": {
             "colorbar": {
              "outlinewidth": 0,
              "ticks": ""
             }
            },
            "type": "scatterpolar"
           }
          ],
          "scatterpolargl": [
           {
            "marker": {
             "colorbar": {
              "outlinewidth": 0,
              "ticks": ""
             }
            },
            "type": "scatterpolargl"
           }
          ],
          "scatterternary": [
           {
            "marker": {
             "colorbar": {
              "outlinewidth": 0,
              "ticks": ""
             }
            },
            "type": "scatterternary"
           }
          ],
          "surface": [
           {
            "colorbar": {
             "outlinewidth": 0,
             "ticks": ""
            },
            "colorscale": [
             [
              0,
              "#0d0887"
             ],
             [
              0.1111111111111111,
              "#46039f"
             ],
             [
              0.2222222222222222,
              "#7201a8"
             ],
             [
              0.3333333333333333,
              "#9c179e"
             ],
             [
              0.4444444444444444,
              "#bd3786"
             ],
             [
              0.5555555555555556,
              "#d8576b"
             ],
             [
              0.6666666666666666,
              "#ed7953"
             ],
             [
              0.7777777777777778,
              "#fb9f3a"
             ],
             [
              0.8888888888888888,
              "#fdca26"
             ],
             [
              1,
              "#f0f921"
             ]
            ],
            "type": "surface"
           }
          ],
          "table": [
           {
            "cells": {
             "fill": {
              "color": "#EBF0F8"
             },
             "line": {
              "color": "white"
             }
            },
            "header": {
             "fill": {
              "color": "#C8D4E3"
             },
             "line": {
              "color": "white"
             }
            },
            "type": "table"
           }
          ]
         },
         "layout": {
          "annotationdefaults": {
           "arrowcolor": "#2a3f5f",
           "arrowhead": 0,
           "arrowwidth": 1
          },
          "autotypenumbers": "strict",
          "coloraxis": {
           "colorbar": {
            "outlinewidth": 0,
            "ticks": ""
           }
          },
          "colorscale": {
           "diverging": [
            [
             0,
             "#8e0152"
            ],
            [
             0.1,
             "#c51b7d"
            ],
            [
             0.2,
             "#de77ae"
            ],
            [
             0.3,
             "#f1b6da"
            ],
            [
             0.4,
             "#fde0ef"
            ],
            [
             0.5,
             "#f7f7f7"
            ],
            [
             0.6,
             "#e6f5d0"
            ],
            [
             0.7,
             "#b8e186"
            ],
            [
             0.8,
             "#7fbc41"
            ],
            [
             0.9,
             "#4d9221"
            ],
            [
             1,
             "#276419"
            ]
           ],
           "sequential": [
            [
             0,
             "#0d0887"
            ],
            [
             0.1111111111111111,
             "#46039f"
            ],
            [
             0.2222222222222222,
             "#7201a8"
            ],
            [
             0.3333333333333333,
             "#9c179e"
            ],
            [
             0.4444444444444444,
             "#bd3786"
            ],
            [
             0.5555555555555556,
             "#d8576b"
            ],
            [
             0.6666666666666666,
             "#ed7953"
            ],
            [
             0.7777777777777778,
             "#fb9f3a"
            ],
            [
             0.8888888888888888,
             "#fdca26"
            ],
            [
             1,
             "#f0f921"
            ]
           ],
           "sequentialminus": [
            [
             0,
             "#0d0887"
            ],
            [
             0.1111111111111111,
             "#46039f"
            ],
            [
             0.2222222222222222,
             "#7201a8"
            ],
            [
             0.3333333333333333,
             "#9c179e"
            ],
            [
             0.4444444444444444,
             "#bd3786"
            ],
            [
             0.5555555555555556,
             "#d8576b"
            ],
            [
             0.6666666666666666,
             "#ed7953"
            ],
            [
             0.7777777777777778,
             "#fb9f3a"
            ],
            [
             0.8888888888888888,
             "#fdca26"
            ],
            [
             1,
             "#f0f921"
            ]
           ]
          },
          "colorway": [
           "#636efa",
           "#EF553B",
           "#00cc96",
           "#ab63fa",
           "#FFA15A",
           "#19d3f3",
           "#FF6692",
           "#B6E880",
           "#FF97FF",
           "#FECB52"
          ],
          "font": {
           "color": "#2a3f5f"
          },
          "geo": {
           "bgcolor": "white",
           "lakecolor": "white",
           "landcolor": "#E5ECF6",
           "showlakes": true,
           "showland": true,
           "subunitcolor": "white"
          },
          "hoverlabel": {
           "align": "left"
          },
          "hovermode": "closest",
          "mapbox": {
           "style": "light"
          },
          "paper_bgcolor": "white",
          "plot_bgcolor": "#E5ECF6",
          "polar": {
           "angularaxis": {
            "gridcolor": "white",
            "linecolor": "white",
            "ticks": ""
           },
           "bgcolor": "#E5ECF6",
           "radialaxis": {
            "gridcolor": "white",
            "linecolor": "white",
            "ticks": ""
           }
          },
          "scene": {
           "xaxis": {
            "backgroundcolor": "#E5ECF6",
            "gridcolor": "white",
            "gridwidth": 2,
            "linecolor": "white",
            "showbackground": true,
            "ticks": "",
            "zerolinecolor": "white"
           },
           "yaxis": {
            "backgroundcolor": "#E5ECF6",
            "gridcolor": "white",
            "gridwidth": 2,
            "linecolor": "white",
            "showbackground": true,
            "ticks": "",
            "zerolinecolor": "white"
           },
           "zaxis": {
            "backgroundcolor": "#E5ECF6",
            "gridcolor": "white",
            "gridwidth": 2,
            "linecolor": "white",
            "showbackground": true,
            "ticks": "",
            "zerolinecolor": "white"
           }
          },
          "shapedefaults": {
           "line": {
            "color": "#2a3f5f"
           }
          },
          "ternary": {
           "aaxis": {
            "gridcolor": "white",
            "linecolor": "white",
            "ticks": ""
           },
           "baxis": {
            "gridcolor": "white",
            "linecolor": "white",
            "ticks": ""
           },
           "bgcolor": "#E5ECF6",
           "caxis": {
            "gridcolor": "white",
            "linecolor": "white",
            "ticks": ""
           }
          },
          "title": {
           "x": 0.05
          },
          "xaxis": {
           "automargin": true,
           "gridcolor": "white",
           "linecolor": "white",
           "ticks": "",
           "title": {
            "standoff": 15
           },
           "zerolinecolor": "white",
           "zerolinewidth": 2
          },
          "yaxis": {
           "automargin": true,
           "gridcolor": "white",
           "linecolor": "white",
           "ticks": "",
           "title": {
            "standoff": 15
           },
           "zerolinecolor": "white",
           "zerolinewidth": 2
          }
         }
        },
        "title": {
         "text": "Región de Lanzamiento de juegos"
        }
       }
      }
     },
     "metadata": {},
     "output_type": "display_data"
    }
   ],
   "source": [
    "tarta_Comp(df)"
   ]
  },
  {
   "cell_type": "code",
   "execution_count": 65,
   "metadata": {},
   "outputs": [],
   "source": [
    "\n",
    "import sqlite3\n",
    "cnx = sqlite3.connect(':memory:')\n",
    "x=pd.DataFrame(df.Comp.value_counts())\n",
    "x['Regiones']=x.index\n",
    "x.to_sql(name='x',con=cnx,if_exists='append', index=False)\n",
    "\n",
    "def sql_query(query):\n",
    "    return pd.read_sql(query,cnx)"
   ]
  },
  {
   "cell_type": "code",
   "execution_count": 66,
   "metadata": {},
   "outputs": [
    {
     "data": {
      "text/html": [
       "<div>\n",
       "<style scoped>\n",
       "    .dataframe tbody tr th:only-of-type {\n",
       "        vertical-align: middle;\n",
       "    }\n",
       "\n",
       "    .dataframe tbody tr th {\n",
       "        vertical-align: top;\n",
       "    }\n",
       "\n",
       "    .dataframe thead th {\n",
       "        text-align: right;\n",
       "    }\n",
       "</style>\n",
       "<table border=\"1\" class=\"dataframe\">\n",
       "  <thead>\n",
       "    <tr style=\"text-align: right;\">\n",
       "      <th></th>\n",
       "      <th>Comp</th>\n",
       "      <th>Regiones</th>\n",
       "    </tr>\n",
       "  </thead>\n",
       "  <tbody>\n",
       "    <tr>\n",
       "      <th>0</th>\n",
       "      <td>1914</td>\n",
       "      <td>NA EU AU</td>\n",
       "    </tr>\n",
       "    <tr>\n",
       "      <th>1</th>\n",
       "      <td>1376</td>\n",
       "      <td>NA EU JP AU</td>\n",
       "    </tr>\n",
       "    <tr>\n",
       "      <th>2</th>\n",
       "      <td>373</td>\n",
       "      <td>EU AU</td>\n",
       "    </tr>\n",
       "    <tr>\n",
       "      <th>3</th>\n",
       "      <td>259</td>\n",
       "      <td>JP AU</td>\n",
       "    </tr>\n",
       "    <tr>\n",
       "      <th>4</th>\n",
       "      <td>193</td>\n",
       "      <td>NA</td>\n",
       "    </tr>\n",
       "    <tr>\n",
       "      <th>5</th>\n",
       "      <td>71</td>\n",
       "      <td>AU</td>\n",
       "    </tr>\n",
       "    <tr>\n",
       "      <th>6</th>\n",
       "      <td>53</td>\n",
       "      <td>NA JP</td>\n",
       "    </tr>\n",
       "    <tr>\n",
       "      <th>7</th>\n",
       "      <td>35</td>\n",
       "      <td>JP</td>\n",
       "    </tr>\n",
       "    <tr>\n",
       "      <th>8</th>\n",
       "      <td>7</td>\n",
       "      <td>EU JP AU</td>\n",
       "    </tr>\n",
       "  </tbody>\n",
       "</table>\n",
       "</div>"
      ],
      "text/plain": [
       "   Comp     Regiones\n",
       "0  1914     NA EU AU\n",
       "1  1376  NA EU JP AU\n",
       "2   373        EU AU\n",
       "3   259        JP AU\n",
       "4   193           NA\n",
       "5    71           AU\n",
       "6    53        NA JP\n",
       "7    35           JP\n",
       "8     7     EU JP AU"
      ]
     },
     "execution_count": 66,
     "metadata": {},
     "output_type": "execute_result"
    }
   ],
   "source": [
    "query='''\n",
    "SELECT*\n",
    "FROM x\n",
    " '''\n",
    "sql_query(query)"
   ]
  },
  {
   "cell_type": "code",
   "execution_count": 67,
   "metadata": {},
   "outputs": [
    {
     "data": {
      "text/html": [
       "<div>\n",
       "<style scoped>\n",
       "    .dataframe tbody tr th:only-of-type {\n",
       "        vertical-align: middle;\n",
       "    }\n",
       "\n",
       "    .dataframe tbody tr th {\n",
       "        vertical-align: top;\n",
       "    }\n",
       "\n",
       "    .dataframe thead th {\n",
       "        text-align: right;\n",
       "    }\n",
       "</style>\n",
       "<table border=\"1\" class=\"dataframe\">\n",
       "  <thead>\n",
       "    <tr style=\"text-align: right;\">\n",
       "      <th></th>\n",
       "      <th>Comp</th>\n",
       "      <th>Regiones</th>\n",
       "    </tr>\n",
       "  </thead>\n",
       "  <tbody>\n",
       "    <tr>\n",
       "      <th>0</th>\n",
       "      <td>193</td>\n",
       "      <td>NA</td>\n",
       "    </tr>\n",
       "    <tr>\n",
       "      <th>1</th>\n",
       "      <td>53</td>\n",
       "      <td>NA JP</td>\n",
       "    </tr>\n",
       "  </tbody>\n",
       "</table>\n",
       "</div>"
      ],
      "text/plain": [
       "   Comp Regiones\n",
       "0   193       NA\n",
       "1    53    NA JP"
      ]
     },
     "execution_count": 67,
     "metadata": {},
     "output_type": "execute_result"
    }
   ],
   "source": [
    "query='''\n",
    "SELECT*\n",
    "FROM x\n",
    "WHERE NOT (Regiones LIKE '%EU%') AND Regiones LIKE '%NA%'\n",
    " '''\n",
    "sql_query(query)"
   ]
  },
  {
   "cell_type": "code",
   "execution_count": 68,
   "metadata": {},
   "outputs": [
    {
     "data": {
      "text/html": [
       "<div>\n",
       "<style scoped>\n",
       "    .dataframe tbody tr th:only-of-type {\n",
       "        vertical-align: middle;\n",
       "    }\n",
       "\n",
       "    .dataframe tbody tr th {\n",
       "        vertical-align: top;\n",
       "    }\n",
       "\n",
       "    .dataframe thead th {\n",
       "        text-align: right;\n",
       "    }\n",
       "</style>\n",
       "<table border=\"1\" class=\"dataframe\">\n",
       "  <thead>\n",
       "    <tr style=\"text-align: right;\">\n",
       "      <th></th>\n",
       "      <th>Comp</th>\n",
       "      <th>Regiones</th>\n",
       "    </tr>\n",
       "  </thead>\n",
       "  <tbody>\n",
       "    <tr>\n",
       "      <th>0</th>\n",
       "      <td>373</td>\n",
       "      <td>EU AU</td>\n",
       "    </tr>\n",
       "    <tr>\n",
       "      <th>1</th>\n",
       "      <td>7</td>\n",
       "      <td>EU JP AU</td>\n",
       "    </tr>\n",
       "  </tbody>\n",
       "</table>\n",
       "</div>"
      ],
      "text/plain": [
       "   Comp  Regiones\n",
       "0   373     EU AU\n",
       "1     7  EU JP AU"
      ]
     },
     "execution_count": 68,
     "metadata": {},
     "output_type": "execute_result"
    }
   ],
   "source": [
    "query='''\n",
    "SELECT*\n",
    "FROM x\n",
    "WHERE NOT (Regiones like '%NA%')  AND Regiones LIKE '%EU%' '''\n",
    "sql_query(query)"
   ]
  },
  {
   "cell_type": "code",
   "execution_count": 69,
   "metadata": {},
   "outputs": [
    {
     "name": "stdout",
     "output_type": "stream",
     "text": [
      "   Comp     Regiones\n",
      "0  1914     NA EU AU\n",
      "1  1376  NA EU JP AU\n",
      "2   373        EU AU\n",
      "3   259        JP AU\n",
      "4   193           NA\n",
      "5    71           AU\n",
      "6    53        NA JP\n",
      "7    35           JP\n",
      "8     7     EU JP AU\n",
      "   Comp Regiones\n",
      "0   193       NA\n",
      "1    53    NA JP\n",
      "   Comp  Regiones\n",
      "0   373     EU AU\n",
      "1     7  EU JP AU\n",
      "   Comp     Regiones\n",
      "0  1914     NA EU AU\n",
      "1  1376  NA EU JP AU\n",
      "2   373        EU AU\n",
      "3   193           NA\n",
      "4    53        NA JP\n",
      "5     7     EU JP AU\n"
     ]
    }
   ],
   "source": [
    "cnx = sqlite3.connect(':memory:')\n",
    "x=pd.DataFrame(df.Comp.value_counts())\n",
    "x['Regiones']=x.index\n",
    "x.to_sql(name='x',con=cnx,if_exists='append', index=False)\n",
    "\n",
    "def sql_query(query):\n",
    "    return pd.read_sql(query,cnx)\n",
    "\n",
    "query='''\n",
    "SELECT*\n",
    "FROM x\n",
    " '''\n",
    "print(sql_query(query))\n",
    "\n",
    "query='''\n",
    "SELECT*\n",
    "FROM x\n",
    "WHERE NOT (Regiones LIKE '%EU%') AND Regiones LIKE '%NA%'\n",
    " '''\n",
    "print(sql_query(query))\n",
    "query='''\n",
    "SELECT*\n",
    "FROM x\n",
    "WHERE NOT (Regiones LIKE '%NA%')  AND Regiones LIKE '%EU%' '''\n",
    "print(sql_query(query))\n",
    "query='''\n",
    "SELECT*\n",
    "FROM x\n",
    "WHERE Regiones LIKE '%NA%' OR Regiones LIKE '%EU%' '''\n",
    "print(sql_query(query))"
   ]
  }
 ],
 "metadata": {
  "kernelspec": {
   "display_name": "Python 3",
   "language": "python",
   "name": "python3"
  },
  "language_info": {
   "codemirror_mode": {
    "name": "ipython",
    "version": 3
   },
   "file_extension": ".py",
   "mimetype": "text/x-python",
   "name": "python",
   "nbconvert_exporter": "python",
   "pygments_lexer": "ipython3",
   "version": "3.7.4"
  },
  "orig_nbformat": 4
 },
 "nbformat": 4,
 "nbformat_minor": 2
}
